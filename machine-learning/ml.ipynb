{
 "cells": [
  {
   "cell_type": "code",
   "execution_count": 8,
   "id": "initial_id",
   "metadata": {
    "collapsed": true,
    "ExecuteTime": {
     "end_time": "2024-04-01T02:50:36.775447817Z",
     "start_time": "2024-04-01T02:50:36.768353915Z"
    }
   },
   "outputs": [],
   "source": [
    "import numpy as np"
   ]
  },
  {
   "cell_type": "code",
   "execution_count": null,
   "outputs": [],
   "source": [
    "def sigmoid(x):\n",
    "    \"\"\"\n",
    "    Sigmoid 函数的实现\n",
    "    \n",
    "    参数:\n",
    "    x: 输入值，可以是标量、向量或矩阵\n",
    "    \n",
    "    返回:\n",
    "    result: 对应于 x 的 Sigmoid 函数值\n",
    "    \"\"\"\n",
    "    result = 1 / (1 + np.exp(-x))\n",
    "    return result"
   ],
   "metadata": {
    "collapsed": false
   },
   "id": "58d1430fd4d8a35a"
  },
  {
   "cell_type": "code",
   "execution_count": null,
   "outputs": [],
   "source": [
    "def relu(x):\n",
    "    \"\"\"\n",
    "    ReLU 激活函数的实现\n",
    "    \n",
    "    参数:\n",
    "    x: 输入值，可以是标量、向量或矩阵\n",
    "    \n",
    "    返回:\n",
    "    result: 对应于 x 的 ReLU 激活函数值\n",
    "    \"\"\"\n",
    "    result = np.maximum(0, x)\n",
    "    return result"
   ],
   "metadata": {
    "collapsed": false
   },
   "id": "fb6eae059de6e5f7"
  },
  {
   "cell_type": "code",
   "execution_count": null,
   "outputs": [],
   "source": [
    "def tanh(x):\n",
    "    \"\"\"\n",
    "    Tanh 激活函数的实现\n",
    "    \n",
    "    参数:\n",
    "    x: 输入值，可以是标量、向量或矩阵\n",
    "    \n",
    "    返回:\n",
    "    result: 对应于 x 的 Tanh 激活函数值\n",
    "    \"\"\"\n",
    "    result = (np.exp(x) - np.exp(-x)) / (np.exp(x) + np.exp(-x))\n",
    "    return result"
   ],
   "metadata": {
    "collapsed": false
   },
   "id": "d0613000e1b1ebcd"
  },
  {
   "cell_type": "code",
   "execution_count": 102,
   "outputs": [],
   "source": [
    "def softmax(z):\n",
    "    \"\"\"\n",
    "    Softmax 函数的实现\n",
    "    \n",
    "    参数:\n",
    "    z: 输入向量，可以是任意长度的一维数组，或二维数组\n",
    "    \n",
    "    返回:\n",
    "    result: 对应于 z 的 Softmax 函数值\n",
    "    \"\"\"\n",
    "    # 为了数值稳定性，减去最大值\n",
    "    if len(z.shape) == 1:\n",
    "        exp_z = np.exp(z - np.max(z, axis=-1))  \n",
    "        result = exp_z / np.sum(exp_z, axis=-1)\n",
    "        return result\n",
    "    if len(z.shape) == 2:\n",
    "        r, c = z.shape\n",
    "        exp_z = np.exp(z - np.max(z, axis=-1).reshape(r, 1))\n",
    "        result = exp_z / np.sum(exp_z, axis=-1).reshape(r, 1)\n",
    "        return result"
   ],
   "metadata": {
    "collapsed": false,
    "ExecuteTime": {
     "end_time": "2024-04-01T04:06:44.537317379Z",
     "start_time": "2024-04-01T04:06:44.492681112Z"
    }
   },
   "id": "e5775c3ba5a5b125"
  },
  {
   "cell_type": "code",
   "execution_count": 113,
   "outputs": [],
   "source": [
    "def relu(x):\n",
    "    x = np.maximum(0, x)\n",
    "    return x"
   ],
   "metadata": {
    "collapsed": false,
    "ExecuteTime": {
     "end_time": "2024-04-01T04:14:44.936784697Z",
     "start_time": "2024-04-01T04:14:44.893014894Z"
    }
   },
   "id": "3ada0582efcacb56"
  },
  {
   "cell_type": "code",
   "execution_count": 122,
   "outputs": [],
   "source": [
    "class BatchNormalization:\n",
    "    def __init__(self, epsilon=1e-5, momentum=0.9):\n",
    "        self.epsilon = epsilon\n",
    "        self.momentum = momentum\n",
    "        self.running_mean = None\n",
    "        self.running_var = None\n",
    "        self.gamma = None\n",
    "        self.beta = None\n",
    "\n",
    "    def forward(self, x, training=True):\n",
    "        if self.running_mean is None:\n",
    "            N, D = x.shape\n",
    "            self.running_mean = np.zeros(D)\n",
    "            self.running_var = np.zeros(D)\n",
    "            self.gamma = np.ones(D)\n",
    "            self.beta = np.zeros(D)\n",
    "\n",
    "        if training:\n",
    "            sample_mean = np.mean(x, axis=0)\n",
    "            sample_var = np.var(x, axis=0)\n",
    "            x_normalized = (x - sample_mean) / np.sqrt(sample_var + self.epsilon)\n",
    "\n",
    "            self.running_mean = self.momentum * self.running_mean + (1 - self.momentum) * sample_mean\n",
    "            self.running_var = self.momentum * self.running_var + (1 - self.momentum) * sample_var\n",
    "\n",
    "            self.x_normalized = x_normalized\n",
    "        else:\n",
    "            x_normalized = (x - self.running_mean) / np.sqrt(self.running_var + self.epsilon)\n",
    "\n",
    "        out = self.gamma * x_normalized + self.beta\n",
    "        return out\n",
    "\n",
    "    def backward(self, dout):\n",
    "        N = dout.shape[0]\n",
    "\n",
    "        dx_normalized = dout * self.gamma\n",
    "        dvar = np.sum(dx_normalized * (self.x_normalized - self.running_mean) * -0.5 * (self.running_var + self.epsilon)**(-1.5), axis=0)\n",
    "        dmean = np.sum(dx_normalized * -1 / np.sqrt(self.running_var + self.epsilon), axis=0) + dvar * np.sum(-2 * (self.x_normalized - self.running_mean), axis=0) / N\n",
    "        dx = dx_normalized / np.sqrt(self.running_var + self.epsilon) + dvar * 2 * (self.x_normalized - self.running_mean) / N + dmean / N\n",
    "\n",
    "        self.dgamma = np.sum(dout * self.x_normalized, axis=0)\n",
    "        self.dbeta = np.sum(dout, axis=0)\n",
    "\n",
    "        return dx\n"
   ],
   "metadata": {
    "collapsed": false,
    "ExecuteTime": {
     "end_time": "2024-04-01T05:01:08.145290876Z",
     "start_time": "2024-04-01T05:01:08.102169983Z"
    }
   },
   "id": "10e68bc339ef95c"
  },
  {
   "cell_type": "code",
   "execution_count": 131,
   "outputs": [],
   "source": [
    "def convolution2d(image, kernel):\n",
    "    \"\"\"\n",
    "    二维卷积操作\n",
    "    \n",
    "    参数:\n",
    "    image: 输入的二维图像，形状为 (H, W)，其中 H 为图像高度，W 为图像宽度\n",
    "    kernel: 卷积核，形状为 (K, K)，其中 K 为卷积核的大小，通常为奇数\n",
    "    \n",
    "    返回:\n",
    "    result: 卷积后的图像，形状为 (H-K+1, W-K+1)\n",
    "    \"\"\"\n",
    "    # 获取图像和卷积核的形状信息\n",
    "    image_height, image_width = image.shape\n",
    "    kernel_size = kernel.shape[0]\n",
    "    \n",
    "    # 计算卷积后的图像大小\n",
    "    result_height = image_height - kernel_size + 1\n",
    "    result_width = image_width - kernel_size + 1\n",
    "    \n",
    "    # 初始化卷积后的图像\n",
    "    result = np.zeros((result_height, result_width))\n",
    "    \n",
    "    # 进行卷积操作\n",
    "    for i in range(result_height):\n",
    "        for j in range(result_width):\n",
    "            result[i, j] = np.sum(image[i:i+kernel_size, j:j+kernel_size] * kernel)\n",
    "    \n",
    "    return result"
   ],
   "metadata": {
    "collapsed": false,
    "ExecuteTime": {
     "end_time": "2024-04-01T05:41:52.118373922Z",
     "start_time": "2024-04-01T05:41:52.075010270Z"
    }
   },
   "id": "2444ff11aa2b393c"
  },
  {
   "cell_type": "code",
   "execution_count": 138,
   "outputs": [],
   "source": [
    "def binary_cross_entropy(y, y_pred):\n",
    "    \"\"\"\n",
    "    二分类交叉熵损失函数的实现\n",
    "    \n",
    "    参数:\n",
    "    y: 真实的标签向量，形状为 (N,)\n",
    "    y_pred: 模型的预测概率向量，形状为 (N,)\n",
    "    \n",
    "    返回:\n",
    "    loss: 二分类交叉熵损失值\n",
    "    \"\"\"\n",
    "    epsilon = 1e-12  # 避免log(0)导致的数值不稳定\n",
    "    loss = -np.mean(y * np.log(y_pred + epsilon) + (1 - y) * np.log(1 - y_pred + epsilon))\n",
    "    return loss\n",
    "\n",
    "def cross_entropy(y, y_pred):\n",
    "    \"\"\"\n",
    "    多分类交叉熵损失函数的实现\n",
    "    \n",
    "    参数:\n",
    "    y: 真实的标签向量，形状为 (N, C)，其中 N 是样本数量，C 是类别数量\n",
    "    y_pred: 模型的预测概率矩阵，形状为 (N, C)\n",
    "    \n",
    "    返回:\n",
    "    loss: 多分类交叉熵损失值，形状为 (N,)\n",
    "    \"\"\"\n",
    "    epsilon = 1e-12  # 避免log(0)导致的数值不稳定\n",
    "    loss = -np.mean(y * np.log(y_pred + epsilon))\n",
    "    return loss"
   ],
   "metadata": {
    "collapsed": false,
    "ExecuteTime": {
     "end_time": "2024-04-01T06:01:51.686355263Z",
     "start_time": "2024-04-01T06:01:51.623320359Z"
    }
   },
   "id": "947032b8ee33248b"
  },
  {
   "cell_type": "code",
   "execution_count": 151,
   "outputs": [],
   "source": [
    "def focal_loss(y_true, y_pred, alpha=0.25, gamma=2):\n",
    "    \"\"\"\n",
    "    Focal Loss 的多分类版本实现\n",
    "    \n",
    "    参数:\n",
    "    y_true: 真实的标签矩阵，形状为 (N, C)，其中 N 是样本数量，C 是类别数量，采用 one-hot 编码\n",
    "    y_pred: 模型的预测概率矩阵，形状为 (N, C)，表示每个样本属于各个类别的概率\n",
    "    alpha: 正样本和负样本的权重系数，默认为 0.25\n",
    "    gamma: 调节参数，默认为 2\n",
    "    \n",
    "    返回:\n",
    "    loss: Focal Loss 的值\n",
    "    \"\"\"\n",
    "    epsilon = 1e-12\n",
    "    p_t = np.clip(y_pred, epsilon, 1.0 - epsilon) # 避免 log(0) 导致的数值不稳定\n",
    "    loss = -alpha * (1 - p_t) ** gamma * y_true * np.log(p_t)\n",
    "    \n",
    "    return loss.mean()"
   ],
   "metadata": {
    "collapsed": false,
    "ExecuteTime": {
     "end_time": "2024-04-01T06:45:15.290359266Z",
     "start_time": "2024-04-01T06:45:15.245398633Z"
    }
   },
   "id": "3fce75e2c4451944"
  },
  {
   "cell_type": "code",
   "execution_count": 152,
   "outputs": [
    {
     "name": "stdout",
     "output_type": "stream",
     "text": [
      "Focal Loss: 0.004585572350585259\n"
     ]
    }
   ],
   "source": [
    "# 示例用法\n",
    "y_true = np.array([1, 0, 1, 0, 1]) # 真实的标签向量\n",
    "y_pred = np.array([0.8, 0.2, 0.6, 0.3, 0.9]) # 模型的预测概率向量\n",
    "\n",
    "# 计算 Focal Loss\n",
    "loss = focal_loss(y_true, y_pred)\n",
    "print(\"Focal Loss:\", loss)"
   ],
   "metadata": {
    "collapsed": false,
    "ExecuteTime": {
     "end_time": "2024-04-01T06:45:15.674316983Z",
     "start_time": "2024-04-01T06:45:15.668916636Z"
    }
   },
   "id": "34acfaa17e1909c5"
  },
  {
   "cell_type": "code",
   "execution_count": 155,
   "outputs": [
    {
     "data": {
      "text/plain": "2.0"
     },
     "execution_count": 155,
     "metadata": {},
     "output_type": "execute_result"
    }
   ],
   "source": [],
   "metadata": {
    "collapsed": false,
    "ExecuteTime": {
     "end_time": "2024-04-01T06:46:29.444310295Z",
     "start_time": "2024-04-01T06:46:29.399649264Z"
    }
   },
   "id": "6455686f6e84b132"
  },
  {
   "cell_type": "code",
   "execution_count": 156,
   "outputs": [
    {
     "data": {
      "text/plain": "0.0001"
     },
     "execution_count": 156,
     "metadata": {},
     "output_type": "execute_result"
    }
   ],
   "source": [
    "1e-4"
   ],
   "metadata": {
    "collapsed": false,
    "ExecuteTime": {
     "end_time": "2024-04-01T06:46:35.724957961Z",
     "start_time": "2024-04-01T06:46:35.667599963Z"
    }
   },
   "id": "afc8e9e6aff0d996"
  },
  {
   "cell_type": "code",
   "execution_count": null,
   "outputs": [],
   "source": [],
   "metadata": {
    "collapsed": false
   },
   "id": "44ea7de020877a16"
  }
 ],
 "metadata": {
  "kernelspec": {
   "display_name": "Python 3",
   "language": "python",
   "name": "python3"
  },
  "language_info": {
   "codemirror_mode": {
    "name": "ipython",
    "version": 2
   },
   "file_extension": ".py",
   "mimetype": "text/x-python",
   "name": "python",
   "nbconvert_exporter": "python",
   "pygments_lexer": "ipython2",
   "version": "2.7.6"
  }
 },
 "nbformat": 4,
 "nbformat_minor": 5
}
