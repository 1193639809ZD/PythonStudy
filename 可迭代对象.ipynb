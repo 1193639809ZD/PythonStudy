{
 "cells": [
  {
   "cell_type": "code",
   "execution_count": null,
   "id": "72e45327",
   "metadata": {},
   "outputs": [],
   "source": [
    "# filter:用于过滤序列，过滤掉不符合条件的元素，返回由符合条件元素组成的新迭代对象。\n",
    "# 接收两个参数，第一个为函数，第二个为序列，序列的每个元素作为参数传递给函数进行判断，将函数返回True的元素放到新列表中。\n",
    "\n",
    "iterable_object = [1, 2, 3, 4, 5, 6, 7, 8, 9, 10]\n",
    "\n",
    "def is_odd(n):\n",
    "    return n % 2 == 0\n",
    "\n",
    "temp = list(filter(is_odd, iterable_object))  # 结果：[2, 4, 6, 8, 10]\n",
    "new_temp = list(filter(lambda x: x % 2 == 0, iterable_object)) # 结果：[2, 4, 6, 8, 10]"
   ]
  },
  {
   "cell_type": "code",
   "execution_count": null,
   "id": "891bd15b",
   "metadata": {},
   "outputs": [],
   "source": []
  }
 ],
 "metadata": {
  "kernelspec": {
   "display_name": "base",
   "language": "python",
   "name": "python3"
  },
  "language_info": {
   "codemirror_mode": {
    "name": "ipython",
    "version": 3
   },
   "file_extension": ".py",
   "mimetype": "text/x-python",
   "name": "python",
   "nbconvert_exporter": "python",
   "pygments_lexer": "ipython3",
   "version": "3.12.4"
  }
 },
 "nbformat": 4,
 "nbformat_minor": 5
}
