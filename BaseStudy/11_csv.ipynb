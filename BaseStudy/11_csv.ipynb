{
 "cells": [
  {
   "cell_type": "code",
   "execution_count": null,
   "id": "6ed1eb4e-c4e5-40c5-a04b-96dbcbe6779a",
   "metadata": {},
   "outputs": [],
   "source": [
    "import csv"
   ]
  },
  {
   "cell_type": "code",
   "execution_count": 5,
   "id": "f823dd59",
   "metadata": {},
   "outputs": [],
   "source": [
    "test = [['a', 1], ['b', 2], ['c', 3], ['d', 4], ['e', 5], ['f', 6], ['e', 7]]\n",
    "\n",
    "def write_csv():\n",
    "    with open('test.csv', 'w', encoding='utf-8', newline='') as file:\n",
    "        writer = csv.writer(file)\n",
    "        # 写表头\n",
    "        writer.writerow(['A', 'B'])\n",
    "        # 写入数据\n",
    "        writer.writerows(test)"
   ]
  },
  {
   "cell_type": "code",
   "execution_count": 30,
   "id": "cc60a06c",
   "metadata": {},
   "outputs": [],
   "source": [
    "epoch = [i + 1 for i in range(12)]"
   ]
  },
  {
   "cell_type": "code",
   "execution_count": 31,
   "id": "b240b6f3-e1b0-4312-ae43-7d594dfd92a8",
   "metadata": {},
   "outputs": [],
   "source": [
    "PF = [(i+1) * (i+1) for i in range(12)]\n",
    "TF = [(i+1) ** 3 for i in range(12)]"
   ]
  },
  {
   "cell_type": "code",
   "execution_count": 32,
   "id": "525b3bd4-fe51-478e-99c1-a1abaea8c52f",
   "metadata": {},
   "outputs": [],
   "source": [
    "row = ['epoch', 'PF', 'TF']  \n",
    "rows = []"
   ]
  },
  {
   "cell_type": "code",
   "execution_count": 33,
   "id": "1bf0db5f-94c0-4529-8340-b1ca1b89623f",
   "metadata": {},
   "outputs": [],
   "source": [
    "for i in range(len(epoch)):\n",
    "    rows.append([epoch[i], PF[i], TF[i]])"
   ]
  },
  {
   "cell_type": "code",
   "execution_count": 34,
   "id": "dd6b1c1c-8a1c-4a9c-ba59-3784b0015ac5",
   "metadata": {},
   "outputs": [],
   "source": [
    "with open('test.csv', 'w', encoding='utf-8', newline='') as file:\n",
    "    writer = csv.writer(file)\n",
    "    # 写表头\n",
    "    writer.writerow(row)\n",
    "    # 写入数据\n",
    "    writer.writerows(rows)"
   ]
  },
  {
   "cell_type": "code",
   "execution_count": null,
   "id": "b6ae0cf8-5060-4c35-ab98-9756a872ec30",
   "metadata": {},
   "outputs": [],
   "source": []
  }
 ],
 "metadata": {
  "kernelspec": {
   "display_name": "pytorch",
   "language": "python",
   "name": "pytorch"
  },
  "language_info": {
   "codemirror_mode": {
    "name": "ipython",
    "version": 3
   },
   "file_extension": ".py",
   "mimetype": "text/x-python",
   "name": "python",
   "nbconvert_exporter": "python",
   "pygments_lexer": "ipython3",
   "version": "3.9.13"
  }
 },
 "nbformat": 4,
 "nbformat_minor": 5
}
