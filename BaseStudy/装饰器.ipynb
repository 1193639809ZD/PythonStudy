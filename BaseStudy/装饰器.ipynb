{
 "cells": [
  {
   "cell_type": "code",
   "execution_count": 28,
   "metadata": {},
   "outputs": [],
   "source": [
    "class People(object):\n",
    "    def __init__(self, age) -> None:\n",
    "        self.age = age\n",
    "        \n",
    "    @property   # 将函数变成属性，注意此时self.score会解释为self.score()，注意变量名不能相同，否则会循环递归\n",
    "    def age(self):\n",
    "        return self._age\n",
    "\n",
    "    @age.setter   # 如果没有setter方法，该属性是只读的\n",
    "    def age(self, value):\n",
    "        if not isinstance(value, int):\n",
    "            raise ValueError('score must be an integer!')\n",
    "        if value < 0:\n",
    "            raise ValueError('score must >= 0!')\n",
    "        self._age = value"
   ]
  },
  {
   "cell_type": "code",
   "execution_count": 20,
   "metadata": {},
   "outputs": [],
   "source": [
    "def lclogging(tech, time_complexity=None, space_complexity=None):\n",
    "    def wrapper(func):\n",
    "        print(f'知识点:{tech}')\n",
    "        print(f'时间复杂度:{time_complexity}')\n",
    "        print(f'空间复杂度:{space_complexity}')\n",
    "\n",
    "        def inner_wrapper(*args, **kwargs):\n",
    "            return func(*args, **kwargs)\n",
    "        return inner_wrapper\n",
    "    return wrapper"
   ]
  },
  {
   "cell_type": "code",
   "execution_count": 21,
   "metadata": {},
   "outputs": [
    {
     "name": "stdout",
     "output_type": "stream",
     "text": [
      "知识点:bfs\n"
     ]
    }
   ],
   "source": [
    "@lclogging(tech='bfs')\n",
    "def bfs(cur):\n",
    "    pass"
   ]
  },
  {
   "cell_type": "code",
   "execution_count": 17,
   "metadata": {},
   "outputs": [
    {
     "name": "stdout",
     "output_type": "stream",
     "text": [
      "知识点:bfs\n"
     ]
    }
   ],
   "source": [
    "bfs(1)"
   ]
  },
  {
   "cell_type": "code",
   "execution_count": 22,
   "metadata": {},
   "outputs": [
    {
     "name": "stdout",
     "output_type": "stream",
     "text": [
      "None\n"
     ]
    }
   ],
   "source": [
    "time_complexity = None\n",
    "print(time_complexity)"
   ]
  },
  {
   "cell_type": "code",
   "execution_count": null,
   "metadata": {},
   "outputs": [],
   "source": []
  }
 ],
 "metadata": {
  "kernelspec": {
   "display_name": "base",
   "language": "python",
   "name": "python3"
  },
  "language_info": {
   "codemirror_mode": {
    "name": "ipython",
    "version": 3
   },
   "file_extension": ".py",
   "mimetype": "text/x-python",
   "name": "python",
   "nbconvert_exporter": "python",
   "pygments_lexer": "ipython3",
   "version": "3.12.4"
  }
 },
 "nbformat": 4,
 "nbformat_minor": 2
}
