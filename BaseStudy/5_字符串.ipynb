{
 "cells": [
  {
   "cell_type": "code",
   "execution_count": 10,
   "id": "ce057a2b",
   "metadata": {},
   "outputs": [
    {
     "name": "stdout",
     "output_type": "stream",
     "text": [
      "fruit:     apple\n",
      "price:    6.06\n",
      "price:   6.056\n"
     ]
    }
   ],
   "source": [
    "# 1. 字符串\n",
    "'''\n",
    "格式化操作符：%[(name)][flags][width].[precision]typecode\n",
    "    1. name：可选，用于选择指定的 key。\n",
    "    2. flags：可选，表示辅助符号（例如：+、0 等）。\n",
    "    3. width：可选，占有宽度，默认右对齐。\n",
    "    4. .precision：可选，小数点后保留的位数。\n",
    "    5. typecode：必选，类型码，常用的有，%d->十进制整数、%f->浮点数、%s->字符串。\n",
    "'''\n",
    "print('fruit:%10s\\nprice:%8.2f\\nprice:%8.3f' % ('apple', 6.056, 6.056))"
   ]
  },
  {
   "cell_type": "code",
   "execution_count": 3,
   "id": "d40c6c72",
   "metadata": {},
   "outputs": [
    {
     "name": "stdout",
     "output_type": "stream",
     "text": [
      "url: D:\n",
      "otes \n",
      "\n",
      "url: D:\\notes\n"
     ]
    }
   ],
   "source": [
    "# r：保持字符原始值\n",
    "url = 'D:\\notes'\n",
    "print('url:', url, '\\n')\n",
    "url = r'D:\\notes'\n",
    "print('url:', url)"
   ]
  },
  {
   "cell_type": "code",
   "execution_count": 1,
   "id": "bfc749a8",
   "metadata": {},
   "outputs": [
    {
     "name": "stdout",
     "output_type": "stream",
     "text": [
      "my name is eveLeaf, age is 22\n"
     ]
    }
   ],
   "source": [
    "# f'表达式\n",
    "name = 'eveLeaf'\n",
    "age = 22\n",
    "print(f'my name is {name}, age is {age}')"
   ]
  },
  {
   "cell_type": "code",
   "execution_count": 33,
   "id": "2824314d",
   "metadata": {},
   "outputs": [],
   "source": [
    "name = '名字'\n",
    "name_byte = name.encode('utf-8')"
   ]
  },
  {
   "cell_type": "code",
   "execution_count": 34,
   "id": "8ba29593",
   "metadata": {},
   "outputs": [
    {
     "name": "stdout",
     "output_type": "stream",
     "text": [
      "b'\\xe5\\x90\\x8d\\xe5\\xad\\x97'\n"
     ]
    }
   ],
   "source": [
    "print(name_byte)"
   ]
  },
  {
   "cell_type": "code",
   "execution_count": 41,
   "id": "b27c5c7a",
   "metadata": {},
   "outputs": [
    {
     "name": "stdout",
     "output_type": "stream",
     "text": [
      "b'eveLeaf'\n",
      "b'eveLeaf'\n",
      "b'eveLeaf'\n",
      "eveLeaf\n",
      "eveLeaf\n"
     ]
    }
   ],
   "source": [
    "'''\n",
    "编码、解码：encode()和decode()\n",
    "    encode()：以指定格式编码\n",
    "    decode()：以指定格式解码，需要与编码格式对应，否则会导致乱码，甚至Error，全英文解码通用\n",
    "'''\n",
    "\n",
    "s = \"测试\"\n",
    "str1 = s.encode(encoding=\"utf-8\", errors=\"strict\")\n",
    "str2 = s.encode(\"gb2312\") #编码错误的处理方案默认为\"strict\"\n",
    "str3 = s.encode(\"gbk\")\n",
    "\n",
    "# 不同的编码格式输出不同\n",
    "print(str1)\n",
    "print(str2)\n",
    "print(str3)\n",
    "# 解码格式错误会形成乱码\n",
    "print(str1.decode('utf-8'))\n",
    "print(str1.decode('gbk'))"
   ]
  },
  {
   "cell_type": "code",
   "execution_count": 27,
   "id": "fd72a786",
   "metadata": {},
   "outputs": [
    {
     "data": {
      "text/plain": [
       "'vejv'"
      ]
     },
     "execution_count": 27,
     "metadata": {},
     "output_type": "execute_result"
    }
   ],
   "source": [
    "str = 'fej'\n",
    "byte = str.encode"
   ]
  },
  {
   "cell_type": "code",
   "execution_count": 28,
   "id": "5e1547d1",
   "metadata": {},
   "outputs": [
    {
     "data": {
      "text/plain": [
       "'fejl'"
      ]
     },
     "execution_count": 28,
     "metadata": {},
     "output_type": "execute_result"
    }
   ],
   "source": [
    "str"
   ]
  },
  {
   "cell_type": "code",
   "execution_count": null,
   "id": "12f09317",
   "metadata": {},
   "outputs": [],
   "source": []
  }
 ],
 "metadata": {
  "kernelspec": {
   "display_name": "Python 3 (ipykernel)",
   "language": "python",
   "name": "python3"
  },
  "language_info": {
   "codemirror_mode": {
    "name": "ipython",
    "version": 3
   },
   "file_extension": ".py",
   "mimetype": "text/x-python",
   "name": "python",
   "nbconvert_exporter": "python",
   "pygments_lexer": "ipython3",
   "version": "3.9.12"
  }
 },
 "nbformat": 4,
 "nbformat_minor": 5
}
