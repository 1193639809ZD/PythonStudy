{
 "cells": [
  {
   "cell_type": "code",
   "execution_count": 85,
   "metadata": {},
   "outputs": [
    {
     "name": "stdout",
     "output_type": "stream",
     "text": [
      "3\n",
      "10\n",
      "2\n",
      "8\n"
     ]
    }
   ],
   "source": [
    "# 输入数值\n",
    "print(int(3.14))\n",
    "# 输入数值型字符串\n",
    "print(int('10'))\n",
    "# 输入进制，进制为整数，范围在[2， 36]之间\n",
    "print(int('10', 2))\n",
    "# 特定进制字符串，必须指定对应的进制值，也是对应函数的输出结果\n",
    "print(int('0o10', 8))"
   ]
  },
  {
   "cell_type": "code",
   "execution_count": 90,
   "metadata": {},
   "outputs": [
    {
     "name": "stdout",
     "output_type": "stream",
     "text": [
      "0b1010\n",
      "0o12\n",
      "0xa\n"
     ]
    },
    {
     "ename": "TypeError",
     "evalue": "'float' object cannot be interpreted as an integer",
     "output_type": "error",
     "traceback": [
      "\u001b[0;31m---------------------------------------------------------------------------\u001b[0m",
      "\u001b[0;31mTypeError\u001b[0m                                 Traceback (most recent call last)",
      "Cell \u001b[0;32mIn[90], line 6\u001b[0m\n\u001b[1;32m      3\u001b[0m \u001b[38;5;28mprint\u001b[39m(\u001b[38;5;28moct\u001b[39m(\u001b[38;5;241m10\u001b[39m))\n\u001b[1;32m      4\u001b[0m \u001b[38;5;28mprint\u001b[39m(\u001b[38;5;28mhex\u001b[39m(\u001b[38;5;241m10\u001b[39m))\n\u001b[0;32m----> 6\u001b[0m \u001b[38;5;28mprint\u001b[39m(\u001b[38;5;28mbin\u001b[39m(\u001b[38;5;241m1.0\u001b[39m))\n",
      "\u001b[0;31mTypeError\u001b[0m: 'float' object cannot be interpreted as an integer"
     ]
    }
   ],
   "source": [
    "# 进制转换，必须是int类型\n",
    "print(bin(10))\n",
    "print(oct(10))\n",
    "print(hex(10))"
   ]
  },
  {
   "cell_type": "code",
   "execution_count": 60,
   "metadata": {},
   "outputs": [
    {
     "name": "stdout",
     "output_type": "stream",
     "text": [
      "nan\n",
      "inf\n",
      "-inf\n"
     ]
    }
   ],
   "source": [
    "# 输入整数\n",
    "print(float(18))        # 十进制的整数18    打印出十进制小数18.0\n",
    "# 输入十六进制、八进制、二进制整数\n",
    "print(float(0x41))      # 十六进制整数41   打印出十进制小数65.0\n",
    "print(float(0o41))      # 八进制整数41      打印出十进制小数33.0\n",
    "print(float(0b1101))    # 二进制整数1101  打印出十进制小数13.0\n",
    "# 输入字符串\n",
    "print(float('3.14'))\n",
    "# 输入特殊值，以字符串形式\n",
    "print(float('nan'))     # 未知，不等于任何值 \n",
    "print(float('inf'))     # 无穷大\n",
    "print(float('-inf'))    # 无穷小"
   ]
  },
  {
   "cell_type": "code",
   "execution_count": 87,
   "metadata": {},
   "outputs": [
    {
     "name": "stdout",
     "output_type": "stream",
     "text": [
      "False\n",
      "False\n",
      "True\n",
      "True\n",
      "False\n"
     ]
    }
   ],
   "source": [
    "# 默认为False，整形数值0为False，float值0为False\n",
    "print(bool())\n",
    "print(bool(0))\n",
    "print(bool(0.0))\n",
    "# 整形数值非0为True\n",
    "print(bool(10))\n",
    "print(bool(-10))\n",
    "# list、dict、set、str、tuple为空时为False\n",
    "# 其余类型需要根据__bool__方法判断"
   ]
  },
  {
   "cell_type": "code",
   "execution_count": 102,
   "metadata": {},
   "outputs": [
    {
     "name": "stdout",
     "output_type": "stream",
     "text": [
      "(1+2j)\n",
      "0j\n",
      "(1+0j)\n",
      "(1+2j)\n"
     ]
    }
   ],
   "source": [
    "# complex(real, imag)，real实数，imag虚数，二者均是数字\n",
    "print(complex(1, 2))    # (1+2j)\n",
    "# 实数和虚数默认为0，默认输出 0j\n",
    "print(complex())    \n",
    "# 可以接受字符串，但是字符串必须是唯一参数，字符串被解释为实数\n",
    "print(complex(\"1\"))  # (1+0j)\n",
    "# \"+\"号两边不能有空格，和complex的输出保持一致，否则会报错\n",
    "print(complex(\"1+2j\")) # (1+2j)"
   ]
  },
  {
   "cell_type": "code",
   "execution_count": 17,
   "metadata": {},
   "outputs": [
    {
     "name": "stdout",
     "output_type": "stream",
     "text": [
      "<filter object at 0x7f17ac464430>\n"
     ]
    }
   ],
   "source": [
    "def is_odd(n):\n",
    "    return n % 2 == 1\n",
    " \n",
    "newlist = filter(is_odd, [1, 2, 3, 4, 5, 6, 7, 8, 9, 10])\n",
    "print(newlist)"
   ]
  },
  {
   "cell_type": "code",
   "execution_count": 19,
   "metadata": {},
   "outputs": [
    {
     "data": {
      "text/plain": [
       "filter"
      ]
     },
     "execution_count": 19,
     "metadata": {},
     "output_type": "execute_result"
    }
   ],
   "source": [
    "type(newlist)"
   ]
  },
  {
   "cell_type": "code",
   "execution_count": 50,
   "metadata": {},
   "outputs": [
    {
     "name": "stdout",
     "output_type": "stream",
     "text": [
      "{}\n",
      "{'a': 'a', 'b': 'b', 't': 't'}\n",
      "{'one': 1, 'two': 2, 'three': 3}\n",
      "{'one': 1, 'two': 2, 'three': 3}\n"
     ]
    }
   ],
   "source": [
    "print(dict())                        \n",
    "# 传入关键字\n",
    "print(dict(a='a', b='b', t='t'))     \n",
    "# 映射函数方式来构造字典\n",
    "print(dict(zip(['one', 'two', 'three'], [1, 2, 3])))   \n",
    "# 可迭代对象方式来构造字典，每个元素的长度必须是2\n",
    "print(dict([('one', 1), ('two', 2), ('three', 3)]))    "
   ]
  },
  {
   "cell_type": "code",
   "execution_count": 127,
   "metadata": {},
   "outputs": [
    {
     "name": "stdout",
     "output_type": "stream",
     "text": [
      "0.1\n",
      "0\n",
      "(2, 1)\n",
      "3\n"
     ]
    }
   ],
   "source": [
    "print(abs(-0.1))\n",
    "print(pow(2, 3, 2))\n",
    "print(divmod(7, 3))\n",
    "print(round(3.1415926))"
   ]
  },
  {
   "cell_type": "code",
   "execution_count": 126,
   "metadata": {},
   "outputs": [
    {
     "name": "stdout",
     "output_type": "stream",
     "text": [
      "a\n",
      "97\n"
     ]
    }
   ],
   "source": [
    "# ASCII码转化\n",
    "print(chr(97))\n",
    "print(ord('a'))"
   ]
  },
  {
   "cell_type": "code",
   "execution_count": 129,
   "metadata": {},
   "outputs": [
    {
     "name": "stdout",
     "output_type": "stream",
     "text": [
      "True\n",
      "True\n"
     ]
    }
   ],
   "source": [
    "# 判断一个对象是否包含某属性\n",
    "print(hasattr(int, '__abs__'))\n",
    "# 该属性是否可以调用\n",
    "print(callable(int))"
   ]
  },
  {
   "cell_type": "code",
   "execution_count": 5,
   "metadata": {},
   "outputs": [],
   "source": [
    "class A(object):\n",
    "    bar = 1\n",
    "    def func1(self):  \n",
    "        print ('foo') \n",
    "    @classmethod\n",
    "    def func2(cls):\n",
    "        print ('func2')\n",
    "        print (cls.bar)\n",
    "        cls().func1()   # 调用 foo 方法"
   ]
  },
  {
   "cell_type": "code",
   "execution_count": 6,
   "metadata": {},
   "outputs": [
    {
     "name": "stdout",
     "output_type": "stream",
     "text": [
      "func2\n",
      "1\n",
      "foo\n"
     ]
    }
   ],
   "source": [
    "A.func2()               # 不需要实例化\n"
   ]
  },
  {
   "cell_type": "code",
   "execution_count": 13,
   "metadata": {},
   "outputs": [
    {
     "name": "stdout",
     "output_type": "stream",
     "text": [
      "[2, 3, 1]\n"
     ]
    }
   ],
   "source": [
    "set([frozenset({1, 23}), frozenset({1, 3})])\n",
    "print(list(reversed([1, 3, 2])))"
   ]
  },
  {
   "cell_type": "code",
   "execution_count": 1,
   "metadata": {},
   "outputs": [],
   "source": [
    "# all、any，统计函数\n",
    "visited = [True, False, False]\n",
    "# 如果全部为True，则返回True\n",
    "print(all(visited))\n",
    "# 如果有一个为True，则返回True\n",
    "print(any(visited))"
   ]
  }
 ],
 "metadata": {
  "kernelspec": {
   "display_name": "base",
   "language": "python",
   "name": "python3"
  },
  "language_info": {
   "codemirror_mode": {
    "name": "ipython",
    "version": 3
   },
   "file_extension": ".py",
   "mimetype": "text/x-python",
   "name": "python",
   "nbconvert_exporter": "python",
   "pygments_lexer": "ipython3",
   "version": "3.12.4"
  }
 },
 "nbformat": 4,
 "nbformat_minor": 2
}
