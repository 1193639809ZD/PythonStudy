{
 "cells": [
  {
   "cell_type": "code",
   "execution_count": 6,
   "id": "72fd85e3-491b-4987-b491-5812a0d27817",
   "metadata": {},
   "outputs": [
    {
     "name": "stdout",
     "output_type": "stream",
     "text": [
      "98 97 96 95 94 93 92 91 90 89 88 87 86 85 84 83 82 81 80 79 78 77 76 75 74 73 72 71 70 69 68 67 66 65 64 63 62 61 60 59 58 57 56 55 54 53 52 51 50 49 48 47 46 45 44 43 42 41 40 39 38 37 36 35 34 33 32 31 30 29 28 27 26 25 24 23 22 21 20 19 18 17 16 15 14 13 12 11 10 9 8 7 6 5 4 3 2 1 0 "
     ]
    }
   ],
   "source": [
    "# range(start, end, step): 含start， 不含end\n",
    "for i in range(98, -1, -1):\n",
    "    print(i, end=' ')"
   ]
  },
  {
   "cell_type": "code",
   "execution_count": 11,
   "id": "7c7497b6-4d2e-47b5-811c-835f42741968",
   "metadata": {},
   "outputs": [],
   "source": [
    "from typing import List\n",
    "class Solution:\n",
    "    def trap(self, height: List[int]) -> int:\n",
    "        ans = 0\n",
    "        left, right = 0, len(height) - 1\n",
    "        leftMax = rightMax = 0\n",
    "\n",
    "        while left < right:\n",
    "            leftMax = max(leftMax, height[left])\n",
    "            rightMax = max(rightMax, height[right])\n",
    "            if height[left] < height[right]:\n",
    "                ans += leftMax - height[left]\n",
    "                left += 1\n",
    "            else:\n",
    "                ans += rightMax - height[right]\n",
    "                right -= 1\n",
    "        \n",
    "        return ans"
   ]
  },
  {
   "cell_type": "code",
   "execution_count": 10,
   "id": "00a133ab-060b-48b2-81ca-0087a23fe006",
   "metadata": {},
   "outputs": [
    {
     "name": "stdout",
     "output_type": "stream",
     "text": [
      "[3, 2, 1]\n"
     ]
    }
   ],
   "source": [
    "test = [1,3,2]\n",
    "nextPermutation(test)"
   ]
  },
  {
   "cell_type": "code",
   "execution_count": null,
   "id": "2f47a93e-94b2-42f4-b349-52c575095f6e",
   "metadata": {},
   "outputs": [],
   "source": []
  }
 ],
 "metadata": {
  "kernelspec": {
   "display_name": "pytorch",
   "language": "python",
   "name": "pytorch"
  },
  "language_info": {
   "codemirror_mode": {
    "name": "ipython",
    "version": 3
   },
   "file_extension": ".py",
   "mimetype": "text/x-python",
   "name": "python",
   "nbconvert_exporter": "python",
   "pygments_lexer": "ipython3",
   "version": "3.9.13"
  }
 },
 "nbformat": 4,
 "nbformat_minor": 5
}
