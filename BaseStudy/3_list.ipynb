{
 "cells": [
  {
   "cell_type": "code",
   "execution_count": 54,
   "id": "bc6545c0",
   "metadata": {},
   "outputs": [],
   "source": [
    "from typing import List\n",
    "import numpy as np"
   ]
  },
  {
   "cell_type": "code",
   "execution_count": 55,
   "id": "83589891",
   "metadata": {},
   "outputs": [],
   "source": [
    "a = []"
   ]
  },
  {
   "cell_type": "code",
   "execution_count": 56,
   "id": "8824e80e",
   "metadata": {},
   "outputs": [],
   "source": [
    "# 增：在末尾添加，类型不限\n",
    "a.append(21)\n",
    "a.append([1, 2])\n",
    "a.append((1, 2))\n",
    "a.append('eveLeaf')"
   ]
  },
  {
   "cell_type": "code",
   "execution_count": 23,
   "id": "e5bbafda",
   "metadata": {},
   "outputs": [],
   "source": [
    "c = (1, 2, 3)"
   ]
  },
  {
   "cell_type": "code",
   "execution_count": 69,
   "id": "21a26dca",
   "metadata": {},
   "outputs": [],
   "source": [
    "b = [2, 1, 5, 3, 6]\n",
    "b.sort()"
   ]
  },
  {
   "cell_type": "code",
   "execution_count": 28,
   "id": "f64db63e",
   "metadata": {},
   "outputs": [
    {
     "data": {
      "text/plain": [
       "[1, 2, 3, 5, 6]"
      ]
     },
     "execution_count": 28,
     "metadata": {},
     "output_type": "execute_result"
    }
   ],
   "source": [
    "b"
   ]
  },
  {
   "cell_type": "code",
   "execution_count": 4,
   "id": "f89e54aa",
   "metadata": {},
   "outputs": [
    {
     "name": "stdout",
     "output_type": "stream",
     "text": [
      "[1, 3, 4, 5, 3, 4, 6]\n"
     ]
    }
   ],
   "source": [
    "# 去除pre和mask中mask对应位置为0的点\n",
    "temp_mask = []\n",
    "batch_size , width, hight = 2, 5, 5\n",
    "mask = [[1, 3, 4, 0, 5], [0, 3, 4, 0, 6]]\n",
    "for batch in mask:\n",
    "    for width in batch:\n",
    "        if width != 0:\n",
    "            temp_mask.append(width)\n",
    "print(temp_mask)"
   ]
  },
  {
   "cell_type": "code",
   "execution_count": 57,
   "id": "e84f2464-bc3a-49e4-a4bd-498d09324792",
   "metadata": {},
   "outputs": [
    {
     "name": "stdout",
     "output_type": "stream",
     "text": [
      "8\n",
      "2\n",
      "4\n",
      "[1 2 3 4 5 6 7 8]\n",
      "<class 'numpy.ndarray'>\n",
      "36\n"
     ]
    }
   ],
   "source": [
    "a = np.array([1,2,3,4,5,6,7,8])  #一维数组\n",
    "print(a.shape[0])  #值为8，因为有8个数据\n",
    "\n",
    "a = np.array([[1,2,3,4],[5,6,7,8]])  #二维数组\n",
    "print(a.shape[0])  #值为2，最外层矩阵有2个元素，2个元素还是矩阵。\n",
    "print(a.shape[1])  #值为4，内层矩阵有4个元素。\n",
    "print(a.reshape(-1))\n",
    "print(type(a))\n",
    "print(a[:, 2:4].sum() + a[:, :2].sum())"
   ]
  },
  {
   "cell_type": "code",
   "execution_count": 59,
   "id": "12348424-40ad-4ed2-bf32-f75958a51b1a",
   "metadata": {},
   "outputs": [],
   "source": [
    "# 混淆矩阵的计算\n",
    "cf_mat = np.array([[11, 1, 2, 2],\n",
    "                   [1, 12, 1, 0],\n",
    "                   [0, 2, 12, 4],\n",
    "                   [0, 0, 1, 11]])\n",
    "index = np.array([0, 1, 2])"
   ]
  },
  {
   "cell_type": "code",
   "execution_count": 66,
   "id": "1a637076-2a64-4c08-b012-312692ab8786",
   "metadata": {},
   "outputs": [
    {
     "name": "stdout",
     "output_type": "stream",
     "text": [
      "TP:11 FN:5 FP:1 FN:43 IoU:0.6470588235294118\n",
      "TP:12 FN:2 FP:3 FN:43 IoU:0.7058823529411765\n",
      "TP:12 FN:6 FP:4 FN:38 IoU:0.5454545454545454\n",
      "TP:11 FN:1 FP:6 FN:42 IoU:0.6111111111111112\n",
      "mIoU: 0.6273767082590612\n"
     ]
    }
   ],
   "source": [
    "# list_IoU = np.array([])\n",
    "list_IoU = []\n",
    "for i in range(4):\n",
    "    TP = cf_mat[i][i]\n",
    "    FN = cf_mat[i, :i].sum() + cf_mat[i, i+1:].sum()\n",
    "    FP = cf_mat[:i, i].sum() + cf_mat[i+1:, i].sum()\n",
    "    TN = cf_mat[:i, :i].sum() + cf_mat[i+1:, :i].sum() + cf_mat[:i, i+1:].sum() + cf_mat[i+1:, i+1:].sum()\n",
    "    IoU = TP / (TP + FP + FN)\n",
    "    list_IoU.append(IoU)\n",
    "    print('TP:{} FN:{} FP:{} FN:{} IoU:{}'.format(TP, FN, FP, TN, IoU))\n",
    "print('mIoU:', np.sum(list_IoU) / 4)"
   ]
  },
  {
   "cell_type": "code",
   "execution_count": 41,
   "id": "6474c654-a83d-4ded-a685-b60141fc8622",
   "metadata": {},
   "outputs": [
    {
     "name": "stdout",
     "output_type": "stream",
     "text": [
      "0\n"
     ]
    }
   ],
   "source": [
    "print(cf_mat[1, :0].sum())"
   ]
  },
  {
   "cell_type": "code",
   "execution_count": 83,
   "id": "7086f76e-52e2-444a-95cc-6064627178c4",
   "metadata": {},
   "outputs": [
    {
     "name": "stdout",
     "output_type": "stream",
     "text": [
      "[ 1.  9. 10.  2.  3.]\n",
      "[1. 3.]\n"
     ]
    }
   ],
   "source": [
    "# numpy库常用方法，注意调用静态方法不会改变内存，需要再次赋值\n",
    "# 创建\n",
    "test = np.array([])\n",
    "# 添加\n",
    "test = np.append(test, [1, 2, 3])   # 在列表尾添加元素\n",
    "test = np.insert(test, 1, [9, 10])  # 在指定位置添加元素\n",
    "print(test)\n",
    "# 删除\n",
    "test = np.delete(test, [1, 2, 3])   # 删除指定位置元素\n",
    "print(test)"
   ]
  },
  {
   "cell_type": "code",
   "execution_count": null,
   "id": "ecd5363c-faea-49bf-8c26-8812bd48d0f0",
   "metadata": {},
   "outputs": [],
   "source": []
  }
 ],
 "metadata": {
  "kernelspec": {
   "display_name": "Python 3 (ipykernel)",
   "language": "python",
   "name": "python3"
  },
  "language_info": {
   "codemirror_mode": {
    "name": "ipython",
    "version": 3
   },
   "file_extension": ".py",
   "mimetype": "text/x-python",
   "name": "python",
   "nbconvert_exporter": "python",
   "pygments_lexer": "ipython3",
   "version": "3.9.12"
  }
 },
 "nbformat": 4,
 "nbformat_minor": 5
}
