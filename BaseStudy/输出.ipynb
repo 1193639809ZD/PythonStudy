{
 "cells": [
  {
   "cell_type": "code",
   "execution_count": 1,
   "id": "d6815ecd-73e9-46a7-ba1d-d4fa6a69a65c",
   "metadata": {},
   "outputs": [
    {
     "name": "stdout",
     "output_type": "stream",
     "text": [
      "1|"
     ]
    }
   ],
   "source": [
    "print(1, end='|')"
   ]
  },
  {
   "cell_type": "code",
   "execution_count": 1,
   "id": "371b1ebc-e4ce-4a99-a6c5-7342e0f7ab76",
   "metadata": {},
   "outputs": [],
   "source": [
    "# 格式化输出"
   ]
  },
  {
   "cell_type": "code",
   "execution_count": 2,
   "id": "4f828fd2",
   "metadata": {},
   "outputs": [],
   "source": [
    "initial_relationship = [\n",
    "    [1, 2],\n",
    "    [2, 3],\n",
    "    [4, 5]\n",
    "]"
   ]
  },
  {
   "cell_type": "code",
   "execution_count": 5,
   "id": "8cef0916",
   "metadata": {},
   "outputs": [],
   "source": [
    "relationship = set()"
   ]
  },
  {
   "cell_type": "code",
   "execution_count": 14,
   "id": "7e076377",
   "metadata": {},
   "outputs": [],
   "source": [
    "t = map(int, input().split(' '))"
   ]
  },
  {
   "cell_type": "code",
   "execution_count": 1,
   "id": "200c16ad",
   "metadata": {},
   "outputs": [],
   "source": [
    "x = 5\n",
    "y = 5.0\n",
    "z = int(\"5\")"
   ]
  },
  {
   "cell_type": "code",
   "execution_count": 2,
   "id": "4164558a",
   "metadata": {},
   "outputs": [
    {
     "data": {
      "text/plain": [
       "9771944"
      ]
     },
     "execution_count": 2,
     "metadata": {},
     "output_type": "execute_result"
    }
   ],
   "source": [
    "id(x)"
   ]
  },
  {
   "cell_type": "code",
   "execution_count": 3,
   "id": "c1139502",
   "metadata": {},
   "outputs": [
    {
     "data": {
      "text/plain": [
       "139925487728368"
      ]
     },
     "execution_count": 3,
     "metadata": {},
     "output_type": "execute_result"
    }
   ],
   "source": [
    "id(y)"
   ]
  },
  {
   "cell_type": "code",
   "execution_count": 4,
   "id": "ce9645b8",
   "metadata": {},
   "outputs": [
    {
     "data": {
      "text/plain": [
       "9771944"
      ]
     },
     "execution_count": 4,
     "metadata": {},
     "output_type": "execute_result"
    }
   ],
   "source": [
    "id(z)"
   ]
  },
  {
   "cell_type": "code",
   "execution_count": 5,
   "id": "80d19d80",
   "metadata": {},
   "outputs": [],
   "source": [
    "class Cat:\n",
    "    name = \"猫咪\"\n",
    "    \n",
    "    def showinfo(self):\n",
    "        name = \"咪咪\"\n",
    "        self.name = \"小猫\"\n",
    "        print(Cat.name, self.name)"
   ]
  },
  {
   "cell_type": "code",
   "execution_count": 6,
   "id": "0692b782",
   "metadata": {},
   "outputs": [
    {
     "name": "stdout",
     "output_type": "stream",
     "text": [
      "猫咪 小猫\n"
     ]
    }
   ],
   "source": [
    "cat = Cat()\n",
    "cat.showinfo()"
   ]
  },
  {
   "cell_type": "code",
   "execution_count": 9,
   "id": "afaa50a5",
   "metadata": {},
   "outputs": [
    {
     "name": "stdout",
     "output_type": "stream",
     "text": [
      "123456\n"
     ]
    }
   ],
   "source": [
    "'''\n",
    "Author: eveleaf\n",
    "Date: 2024-07-12 09:15\n",
    "LastEditTime: 2024-09-19 20:14\n",
    "Description: \n",
    "'''\n",
    "import re\n",
    "str = r\"a12b%3c456de&f$\"\n",
    "str = re.split(r'\\D', str)\n",
    "str = \"\".join(str)\n",
    "print(str)"
   ]
  },
  {
   "cell_type": "code",
   "execution_count": null,
   "id": "eb23bab6",
   "metadata": {},
   "outputs": [],
   "source": []
  }
 ],
 "metadata": {
  "kernelspec": {
   "display_name": "base",
   "language": "python",
   "name": "python3"
  },
  "language_info": {
   "codemirror_mode": {
    "name": "ipython",
    "version": 3
   },
   "file_extension": ".py",
   "mimetype": "text/x-python",
   "name": "python",
   "nbconvert_exporter": "python",
   "pygments_lexer": "ipython3",
   "version": "3.12.4"
  }
 },
 "nbformat": 4,
 "nbformat_minor": 5
}
