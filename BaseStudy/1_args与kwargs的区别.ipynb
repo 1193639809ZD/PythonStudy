{
 "cells": [
  {
   "cell_type": "code",
   "execution_count": 50,
   "id": "aea16b14",
   "metadata": {},
   "outputs": [],
   "source": [
    "import torch"
   ]
  },
  {
   "cell_type": "code",
   "execution_count": 9,
   "id": "b761e8ac",
   "metadata": {},
   "outputs": [],
   "source": [
    "'''\n",
    "*args与**kwargs使用方法的区别:\n",
    "    1. *args参数的作用：当所需传入的参数个数未知，且不需要知道参数名称时，可以将这些参数打包成一个数组(tuple)传入。\n",
    "    2. **kwargs参数的作用：当所需传入的参数个数未知，但需要知道参数名称时，可以将这些参数打包成一个字典(dict)传入。\n",
    "'''\n",
    "\n",
    "def func_arg1(name,*args):\n",
    "    print(name,args,type(args))\n",
    "    \n",
    "\n",
    "def func_arg3(x,**kwargs):\n",
    "    print(x,kwargs,type(kwargs))"
   ]
  },
  {
   "cell_type": "code",
   "execution_count": 10,
   "id": "74fbd218",
   "metadata": {},
   "outputs": [
    {
     "name": "stdout",
     "output_type": "stream",
     "text": [
      "马云 ('马化腾', '李彦宏', '雷军', '刘强东') <class 'tuple'>\n"
     ]
    }
   ],
   "source": [
    "func_arg1(\"马云\",\"马化腾\",\"李彦宏\",\"雷军\",\"刘强东\")"
   ]
  },
  {
   "cell_type": "code",
   "execution_count": 11,
   "id": "54ceb411",
   "metadata": {},
   "outputs": [
    {
     "name": "stdout",
     "output_type": "stream",
     "text": [
      "盯着看！ {'name': '小米', 'age': 18} <class 'dict'>\n"
     ]
    }
   ],
   "source": [
    "func_arg3(\"盯着看！\",name=\"小米\",age=18)"
   ]
  },
  {
   "cell_type": "code",
   "execution_count": null,
   "id": "47b82356",
   "metadata": {},
   "outputs": [],
   "source": []
  }
 ],
 "metadata": {
  "kernelspec": {
   "display_name": "pytorch",
   "language": "python",
   "name": "pytorch"
  },
  "language_info": {
   "codemirror_mode": {
    "name": "ipython",
    "version": 3
   },
   "file_extension": ".py",
   "mimetype": "text/x-python",
   "name": "python",
   "nbconvert_exporter": "python",
   "pygments_lexer": "ipython3",
   "version": "3.9.13"
  }
 },
 "nbformat": 4,
 "nbformat_minor": 5
}
