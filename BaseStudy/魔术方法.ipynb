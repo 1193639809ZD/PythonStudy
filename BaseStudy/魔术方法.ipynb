{
 "cells": [
  {
   "cell_type": "code",
   "execution_count": 218,
   "metadata": {},
   "outputs": [],
   "source": [
    "class Monkey:\n",
    "    def __init__(self, kind='monkey'):\n",
    "        print('monkey init方法被触发')\n",
    "        self.kind = kind\n",
    "        \n",
    "class Human:\n",
    "    # 类属性\n",
    "    count = 0\n",
    "    \n",
    "    # 构造方法：用于创建实例对象\n",
    "    # 因为是第一个调用的方法，可以用来自定义不可变类，以及实现单例\n",
    "    # cls表示该类，之后传入的参数需要和创建时的参数列表一致\n",
    "    def __new__(cls, *args,**kwargs):\n",
    "        print(\"new方法被触发\")\n",
    "        # 返回实例，调用并将剩余参数传入init方法，若没有正确返回当前类cls的实例，那__init__将不会被调用。\n",
    "        # 也就是说，可以创建其他类实例，或者不创建实例\n",
    "        # 不能调用自身的new方法，会死循环，应该调用父类的new方法\n",
    "        # 注意，父类的new方法，如果没有参数，则不能传入参数，否则会报参数错误\n",
    "        return super().__new__(cls)\n",
    "        # return object.__new__(Monkey)     # 创建一个Monkey实例，但是不会调用Monkey的init方法，可以手动调用\n",
    "    \n",
    "    # 初始化   \n",
    "    def __init__(self, name='default', age=18):\n",
    "        print(\"init方法被触发\")\n",
    "        # 实例属性\n",
    "        self.name = name\n",
    "        self.age = age\n",
    "    \n",
    "    # 析构方法\n",
    "    def __del__(self):\n",
    "        print(\"del方法被触发\")\n",
    "    \n",
    "    # 将类实例变成可调用对象，并在调用时触发\n",
    "    def __call__(self):\n",
    "        print(\"call方法被触发\")\n",
    "        \n",
    "    def __str__(self):\n",
    "        print(\"str方法被触发\")\n",
    "        return f\"{self.name} is {self.age} years old\"\n",
    "\n",
    "    def __format__(self, arg):\n",
    "        print(\"format方法被触发\")\n",
    "        return f\"{self.name} is {self.age} years old\"\n",
    "    \n",
    "    def __len__(self):\n",
    "        print(\"len方法被触发\")\n",
    "        return len(self.name)\n",
    "\n",
    "    def __getattribute__(self, name):\n",
    "        print(f\"getattribute方法被触发, 访问属性{name}\")\n",
    "        # 错误示例，self.name和self.__dict__均会再次触发getattribute方法，造成死循环\n",
    "        # return self.name  \n",
    "        # return self.__dict__[name]\n",
    "        \n",
    "        # 正确示例，使用父类或者object类的getattribute方法\n",
    "        return super().__getattribute__(name)\n",
    "    \n",
    "    def __getattr__(self, name):\n",
    "        print(f\"getattr方法被触发, 访问属性{name}\")\n",
    "        return f\"{name} is not exist\"\n",
    "    \n",
    "    def __setattr__(self, name, value):\n",
    "        print(f\"setattr方法被触发, 设置属性{name}为{value}\")\n",
    "        super().__setattr__(name, value)\n",
    "    \n",
    "    def __delattr__(self, name):\n",
    "        print(f\"delattr方法被触发, 删除属性{name}\")\n",
    "        # 调用父类的__delattr__方法来实际删除属性\n",
    "        super().__delattr__(name)\n",
    "\n",
    "    \n",
    "    def eat(self):\n",
    "        print(f\"{self.name} is eating\")"
   ]
  },
  {
   "cell_type": "code",
   "execution_count": 219,
   "metadata": {},
   "outputs": [
    {
     "name": "stdout",
     "output_type": "stream",
     "text": [
      "new方法被触发\n",
      "init方法被触发\n",
      "setattr方法被触发, 设置属性name为default\n",
      "setattr方法被触发, 设置属性age为18\n",
      "del方法被触发\n",
      "getattribute方法被触发, 访问属性__dict__\n",
      "{'name': 'default', 'age': 18}\n"
     ]
    }
   ],
   "source": [
    "# 创建实例，调用构造方法\n",
    "p = Human()\n",
    "print(p.__dict__)"
   ]
  },
  {
   "cell_type": "code",
   "execution_count": 220,
   "metadata": {},
   "outputs": [
    {
     "name": "stdout",
     "output_type": "stream",
     "text": [
      "call方法被触发\n"
     ]
    }
   ],
   "source": [
    "# 调用实例\n",
    "p()"
   ]
  },
  {
   "cell_type": "code",
   "execution_count": 221,
   "metadata": {},
   "outputs": [
    {
     "name": "stdout",
     "output_type": "stream",
     "text": [
      "str方法被触发\n",
      "getattribute方法被触发, 访问属性name\n",
      "getattribute方法被触发, 访问属性age\n",
      "default is 18 years old\n"
     ]
    }
   ],
   "source": [
    "# 打印类实例\n",
    "print(p)"
   ]
  },
  {
   "cell_type": "code",
   "execution_count": 222,
   "metadata": {},
   "outputs": [
    {
     "name": "stdout",
     "output_type": "stream",
     "text": [
      "len方法被触发\n",
      "getattribute方法被触发, 访问属性name\n"
     ]
    },
    {
     "data": {
      "text/plain": [
       "7"
      ]
     },
     "execution_count": 222,
     "metadata": {},
     "output_type": "execute_result"
    }
   ],
   "source": [
    "len(p)"
   ]
  },
  {
   "cell_type": "code",
   "execution_count": 223,
   "metadata": {},
   "outputs": [
    {
     "name": "stdout",
     "output_type": "stream",
     "text": [
      "format方法被触发\n",
      "getattribute方法被触发, 访问属性name\n",
      "getattribute方法被触发, 访问属性age\n"
     ]
    },
    {
     "data": {
      "text/plain": [
       "'default is 18 years old'"
      ]
     },
     "execution_count": 223,
     "metadata": {},
     "output_type": "execute_result"
    }
   ],
   "source": [
    "f\"{p:>10}\""
   ]
  },
  {
   "cell_type": "code",
   "execution_count": 224,
   "metadata": {},
   "outputs": [
    {
     "name": "stdout",
     "output_type": "stream",
     "text": [
      "getattribute方法被触发, 访问属性sex\n",
      "getattr方法被触发, 访问属性sex\n",
      "sex is not exist\n"
     ]
    }
   ],
   "source": [
    "# 访问不存在属性\n",
    "print(p.sex)"
   ]
  },
  {
   "cell_type": "code",
   "execution_count": null,
   "metadata": {},
   "outputs": [],
   "source": []
  }
 ],
 "metadata": {
  "kernelspec": {
   "display_name": "base",
   "language": "python",
   "name": "python3"
  },
  "language_info": {
   "codemirror_mode": {
    "name": "ipython",
    "version": 3
   },
   "file_extension": ".py",
   "mimetype": "text/x-python",
   "name": "python",
   "nbconvert_exporter": "python",
   "pygments_lexer": "ipython3",
   "version": "3.12.4"
  }
 },
 "nbformat": 4,
 "nbformat_minor": 2
}
