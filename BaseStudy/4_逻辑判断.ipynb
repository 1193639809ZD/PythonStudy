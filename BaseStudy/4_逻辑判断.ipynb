{
 "cells": [
  {
   "cell_type": "code",
   "execution_count": 1,
   "id": "711c59fa",
   "metadata": {},
   "outputs": [
    {
     "name": "stdout",
     "output_type": "stream",
     "text": [
      "hello!\n"
     ]
    }
   ],
   "source": [
    "'''\n",
    "    逻辑符号：and or not\n",
    "    判断符号：== != > >= < <=\n",
    "'''"
   ]
  },
  {
   "cell_type": "code",
   "execution_count": 30,
   "id": "1af13bd5",
   "metadata": {},
   "outputs": [
    {
     "name": "stdout",
     "output_type": "stream",
     "text": [
      " 1: true\n",
      "-1: true\n"
     ]
    }
   ],
   "source": [
    "'''\n",
    "    if：\n",
    "        1. 值为0是false，值非0是true\n",
    "        2. elif 以及 else 语句只会执行一个\n",
    "'''\n",
    "if 1:\n",
    "    print(' 1: true')\n",
    "if -1:\n",
    "    print('-1: true')\n",
    "if 0:\n",
    "    print(' 0:true')"
   ]
  },
  {
   "cell_type": "code",
   "execution_count": 33,
   "id": "bb28996b",
   "metadata": {},
   "outputs": [
    {
     "data": {
      "text/plain": [
       "2472003004848"
      ]
     },
     "execution_count": 33,
     "metadata": {},
     "output_type": "execute_result"
    }
   ],
   "source": [
    "a = 5\n",
    "id(a)"
   ]
  },
  {
   "cell_type": "code",
   "execution_count": 35,
   "id": "96d233d2",
   "metadata": {},
   "outputs": [
    {
     "data": {
      "text/plain": [
       "2472003004528"
      ]
     },
     "execution_count": 35,
     "metadata": {},
     "output_type": "execute_result"
    }
   ],
   "source": [
    "b = -5\n",
    "id(b)"
   ]
  },
  {
   "cell_type": "code",
   "execution_count": 36,
   "id": "319c5185",
   "metadata": {},
   "outputs": [
    {
     "data": {
      "text/plain": [
       "2472003201424"
      ]
     },
     "execution_count": 36,
     "metadata": {},
     "output_type": "execute_result"
    }
   ],
   "source": [
    "a = 256\n",
    "b = -256\n",
    "id(a)"
   ]
  },
  {
   "cell_type": "code",
   "execution_count": 37,
   "id": "11e5278e",
   "metadata": {},
   "outputs": [
    {
     "data": {
      "text/plain": [
       "2472088462608"
      ]
     },
     "execution_count": 37,
     "metadata": {},
     "output_type": "execute_result"
    }
   ],
   "source": [
    "id(b)"
   ]
  },
  {
   "cell_type": "code",
   "execution_count": null,
   "id": "2d0dcafc",
   "metadata": {},
   "outputs": [],
   "source": []
  }
 ],
 "metadata": {
  "kernelspec": {
   "display_name": "Python 3 (ipykernel)",
   "language": "python",
   "name": "python3"
  },
  "language_info": {
   "codemirror_mode": {
    "name": "ipython",
    "version": 3
   },
   "file_extension": ".py",
   "mimetype": "text/x-python",
   "name": "python",
   "nbconvert_exporter": "python",
   "pygments_lexer": "ipython3",
   "version": "3.9.12"
  }
 },
 "nbformat": 4,
 "nbformat_minor": 5
}
