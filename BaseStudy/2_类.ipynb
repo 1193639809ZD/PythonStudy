{
 "cells": [
  {
   "cell_type": "code",
   "execution_count": 3,
   "id": "a12fe800",
   "metadata": {},
   "outputs": [],
   "source": [
    "from typing import List"
   ]
  },
  {
   "cell_type": "code",
   "execution_count": 4,
   "id": "ebe9c09b",
   "metadata": {},
   "outputs": [],
   "source": [
    "class Solution:\n",
    "    # 参数列表：self：必带 height：list列表 int：返回类型\n",
    "    def maxArea(self, height: List[int]) -> int:\n",
    "        return 1"
   ]
  },
  {
   "cell_type": "code",
   "execution_count": 5,
   "id": "b553ddb5",
   "metadata": {},
   "outputs": [],
   "source": [
    "# 声明类\n",
    "s = Solution()"
   ]
  },
  {
   "cell_type": "code",
   "execution_count": 6,
   "id": "1dc329fb",
   "metadata": {},
   "outputs": [],
   "source": [
    "# 调用函数\n",
    "height = [1,8,6,2,5,4,8,3,7]\n",
    "a = s.maxArea(height)"
   ]
  },
  {
   "cell_type": "code",
   "execution_count": 7,
   "id": "1f5b8f08",
   "metadata": {},
   "outputs": [
    {
     "data": {
      "text/plain": [
       "1"
      ]
     },
     "execution_count": 7,
     "metadata": {},
     "output_type": "execute_result"
    }
   ],
   "source": [
    "a"
   ]
  },
  {
   "cell_type": "code",
   "execution_count": null,
   "id": "524e289b",
   "metadata": {},
   "outputs": [],
   "source": []
  }
 ],
 "metadata": {
  "kernelspec": {
   "display_name": "Python 3 (ipykernel)",
   "language": "python",
   "name": "python3"
  },
  "language_info": {
   "codemirror_mode": {
    "name": "ipython",
    "version": 3
   },
   "file_extension": ".py",
   "mimetype": "text/x-python",
   "name": "python",
   "nbconvert_exporter": "python",
   "pygments_lexer": "ipython3",
   "version": "3.9.12"
  }
 },
 "nbformat": 4,
 "nbformat_minor": 5
}
