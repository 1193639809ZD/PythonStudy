{
 "cells": [
  {
   "cell_type": "code",
   "execution_count": 2,
   "id": "90f0985e-c24a-4cc5-a2a4-ac238100c17e",
   "metadata": {},
   "outputs": [],
   "source": [
    "import numpy as np\n",
    "from sklearn.metrics import confusion_matrix"
   ]
  },
  {
   "cell_type": "code",
   "execution_count": 7,
   "id": "e70f6899-0687-4860-bf5e-8f4dc45725fe",
   "metadata": {},
   "outputs": [
    {
     "name": "stdout",
     "output_type": "stream",
     "text": [
      "[[2 0]\n",
      " [2 1]]\n",
      "[[0 1 0]\n",
      " [0 2 0]\n",
      " [0 2 1]]\n"
     ]
    }
   ],
   "source": [
    "y_true = np.array([2, 1, 2, 2, 0, 1])\n",
    "y_pred = np.array([2, 1, 1, 1, 1, 1])\n",
    "cf_mat = confusion_matrix(y_true, y_pred, labels=[1, 2])\n",
    "print(cf_mat)\n",
    "cf_mat = confusion_matrix(y_true, y_pred)\n",
    "print(cf_mat)"
   ]
  },
  {
   "cell_type": "code",
   "execution_count": 10,
   "id": "ab8f43f3-282f-42ae-bbc3-dd3d9a2667d8",
   "metadata": {},
   "outputs": [
    {
     "name": "stdout",
     "output_type": "stream",
     "text": [
      "TP:2, FN:0, FP:4, TN:0, IoU:0.3333333333333333\n",
      "TP:0, FN:1, FP:0, TN:5, IoU:0.0\n",
      "TP:0, FN:3, FP:0, TN:3, IoU:0.0\n"
     ]
    }
   ],
   "source": [
    "n = cf_mat.shape[0]\n",
    "for i in range(n):\n",
    "    TP = cf_mat[i][i]\n",
    "    FN = cf_mat[i, :i].sum() + cf_mat[i, i+1:].sum()\n",
    "    FP = cf_mat[:i, i].sum() + cf_mat[i+1:, i].sum()\n",
    "    TN = cf_mat[:i, :i].sum() + cf_mat[:i, i+1:].sum() + cf_mat[i+1:, :i].sum() + cf_mat[i+1:, i+1:].sum()\n",
    "    IoU = TP / (TP + FN + FP)\n",
    "    print('TP:{}, FN:{}, FP:{}, TN:{}, IoU:{}'.format(TP, FN, FP, TN, IoU))"
   ]
  },
  {
   "cell_type": "code",
   "execution_count": null,
   "id": "95ca2a21-1837-4018-976f-dcabc10fc76c",
   "metadata": {},
   "outputs": [],
   "source": []
  }
 ],
 "metadata": {
  "kernelspec": {
   "display_name": "pytorch",
   "language": "python",
   "name": "pytorch"
  },
  "language_info": {
   "codemirror_mode": {
    "name": "ipython",
    "version": 3
   },
   "file_extension": ".py",
   "mimetype": "text/x-python",
   "name": "python",
   "nbconvert_exporter": "python",
   "pygments_lexer": "ipython3",
   "version": "3.9.13"
  }
 },
 "nbformat": 4,
 "nbformat_minor": 5
}
