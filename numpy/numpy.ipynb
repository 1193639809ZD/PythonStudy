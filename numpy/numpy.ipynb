{
 "cells": [
  {
   "cell_type": "code",
   "execution_count": 1,
   "id": "initial_id",
   "metadata": {
    "ExecuteTime": {
     "end_time": "2024-03-31T13:33:35.170448770Z",
     "start_time": "2024-03-31T13:33:35.068031021Z"
    },
    "collapsed": true
   },
   "outputs": [],
   "source": [
    "import numpy as np"
   ]
  },
  {
   "cell_type": "code",
   "execution_count": 2,
   "id": "dee993828e9a6897",
   "metadata": {
    "ExecuteTime": {
     "end_time": "2024-03-31T13:35:36.616421318Z",
     "start_time": "2024-03-31T13:35:36.574338991Z"
    },
    "collapsed": false
   },
   "outputs": [],
   "source": [
    "# 矩阵生成\n",
    "# 生成指定shape的全1矩阵\n",
    "list1 = np.ones((3, 4))\n",
    "# 生成指定shape都是零的矩阵\n",
    "list2 = np.zeros((3, 4))\n",
    "# 生成一个指定形状并填充指定值的矩阵 full(shape, fill_value, dtype)\n",
    "list3 = np.full((3, 4), 2)\n",
    "# eye(N, M=None, k=0, dtype=float)生成一个(N, M)单位矩阵, k表示起始列的位置，可为负\n",
    "list4 = np.eye(3, 4)\n",
    "# arange([start=0], stop, [step=1], dtype=None) 按步长(可为负)生成[start, stop）的一维矩阵。\n",
    "list5 = np.arange(0, 10, 2)\n",
    "# rand(d0, d1, ..., dn) 生成一个指定形状的随机矩阵，元素取值在 [0, 1)均匀分布 \n",
    "list6 = np.random.rand(3, 4)\n",
    "# randn(d0, d1, ..., dn) 生成一个指定形状的随机矩阵，元素取值满足标准正态分布（均值为 0，标准差为 1）\n",
    "list7 = np.random.randn(3, 4)\n",
    "# randint(low, high, size) 生成指定size的随机矩阵，元素取值在[low, high)之间 \n",
    "list8 = np.random.randint(0, 10, (3, 4))\n",
    "# random.uniform(low, high, size=None)：生成指定形状的矩阵，其中元素的取值范围在 [low, high) 区间内的均匀分布的浮点数。\n",
    "list9 = np.random.uniform(0, 1, (3, 3))\n",
    "# random.normal(loc=0.0, scale=1.0, size=None)：生成指定形状的矩阵，其中元素的取值满足正态分布，可以通过 loc 和 scale 参数调整均值和标准差。\n",
    "list10 = np.random.normal(0, 1, (3, 3))"
   ]
  },
  {
   "cell_type": "code",
   "execution_count": 3,
   "id": "7bc3ff6aa5f9b746",
   "metadata": {
    "ExecuteTime": {
     "end_time": "2024-03-31T13:06:18.968319620Z",
     "start_time": "2024-03-31T13:06:18.932362175Z"
    },
    "collapsed": false
   },
   "outputs": [],
   "source": [
    "# 基本运算\n",
    "\n",
    "# 矩阵加法：np.add(a, b) 或者 a + b：将两个数组相加\n",
    "# 矩阵减法：np.subtract(a, b) 或者 a - b：将数组 b 从数组 a 中减去\n",
    "# 矩阵乘法：np.matmul(a, b) 或者 a @ b：进行矩阵乘法运算\n",
    "# 矩阵点乘：np.multiply(a, b) 或者 a * b：将两个数组对应位置的元素相乘，得到新的数组\n",
    "# 矩阵除法：np.divide(a, b) 或者 a / b：将数组 a 中的元素除以数组 b 中对应位置的元素\n",
    "# 矩阵取模：np.mod(a, b) 或者 a % b：将数组 a 中的元素对数组 b 中对应位置的元素进行取模\n",
    "# 矩阵取负：np.negative(a) 或者 -a：将数组中的每个元素取负\n",
    "# 矩阵转置：np.transpose(a) 或者 a.T：将矩阵转置。\n",
    "# 矩阵幂运算：np.linalg.matrix_power(a, n)：计算行列式的幂，其中 n 是指数。\n",
    "# 行列式的值: np.linalg.det(a) 计算行列式的值\n",
    "\n",
    "# 幂运算 np.power  **\n",
    "# 指数 np.exp\n",
    "# 对数 np.log"
   ]
  },
  {
   "cell_type": "code",
   "execution_count": 4,
   "id": "723e4358692c556c",
   "metadata": {
    "collapsed": false
   },
   "outputs": [],
   "source": [
    "# boardcast 广播机制\n",
    "# 广播主要发生在两种情况，一种是两个数组的维数不相等，但是它们的后缘(从后往前算)维度的轴长相符，另外一种是有一方的长度为1。"
   ]
  },
  {
   "cell_type": "code",
   "execution_count": 5,
   "id": "2575fe991f795ed0",
   "metadata": {
    "ExecuteTime": {
     "end_time": "2024-04-01T04:47:02.734991916Z",
     "start_time": "2024-04-01T04:47:02.694996731Z"
    },
    "collapsed": false
   },
   "outputs": [],
   "source": [
    "# 比较函数\n",
    "\n",
    "# numpy.max 函数用于计算数组中的最大值\n",
    "# numpy.maximum 函数用于在两个数组（或标量）之间逐个元素地取最大值\n",
    "# numpy.min 函数用于计算数组中的最小值\n",
    "# numpy.minimum 函数用于在两个数组（或标量）之间逐个元素地取最小值"
   ]
  },
  {
   "cell_type": "code",
   "execution_count": 6,
   "id": "5d0e98dbbd40ad62",
   "metadata": {
    "collapsed": false
   },
   "outputs": [],
   "source": [
    "# 统计函数\n",
    "\n",
    "# numpy.sum     计算数组和\n",
    "# numpy.mean    计算数组平均值\n",
    "# numpy.var     计算数组平方差\n",
    "\n",
    "# numpy.sqrt    计算数组元素的平方根"
   ]
  },
  {
   "cell_type": "code",
   "execution_count": 7,
   "id": "4452580b258d169f",
   "metadata": {
    "ExecuteTime": {
     "end_time": "2024-04-01T04:48:46.331020306Z",
     "start_time": "2024-04-01T04:48:46.294106684Z"
    },
    "collapsed": false
   },
   "outputs": [],
   "source": [
    "# 其他函数\n",
    "\n",
    "# numpy.clip(a, a_min, a_max) 限制数组中的值的范围"
   ]
  },
  {
   "cell_type": "code",
   "execution_count": 8,
   "id": "a2b82165970308e6",
   "metadata": {
    "ExecuteTime": {
     "end_time": "2024-04-01T06:47:43.847978922Z",
     "start_time": "2024-04-01T06:47:43.803500647Z"
    },
    "collapsed": false
   },
   "outputs": [],
   "source": [
    "nums = np.random.randint(0, 10, (3, 4))"
   ]
  },
  {
   "cell_type": "code",
   "execution_count": 9,
   "id": "ae7d706d321c87f9",
   "metadata": {
    "collapsed": false
   },
   "outputs": [
    {
     "data": {
      "text/plain": [
       "array([[6, 3, 7, 4],\n",
       "       [5, 9, 9, 5],\n",
       "       [6, 4, 9, 2]])"
      ]
     },
     "execution_count": 9,
     "metadata": {},
     "output_type": "execute_result"
    }
   ],
   "source": [
    "nums"
   ]
  },
  {
   "cell_type": "code",
   "execution_count": null,
   "id": "ba566713",
   "metadata": {},
   "outputs": [],
   "source": []
  }
 ],
 "metadata": {
  "kernelspec": {
   "display_name": "base",
   "language": "python",
   "name": "python3"
  },
  "language_info": {
   "codemirror_mode": {
    "name": "ipython",
    "version": 3
   },
   "file_extension": ".py",
   "mimetype": "text/x-python",
   "name": "python",
   "nbconvert_exporter": "python",
   "pygments_lexer": "ipython3",
   "version": "3.12.4"
  }
 },
 "nbformat": 4,
 "nbformat_minor": 5
}
