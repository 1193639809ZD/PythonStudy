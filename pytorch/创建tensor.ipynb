{
 "cells": [
  {
   "cell_type": "code",
   "execution_count": 194,
   "outputs": [],
   "source": [
    "import torch"
   ],
   "metadata": {
    "collapsed": false,
    "ExecuteTime": {
     "end_time": "2024-05-01T08:48:16.005315810Z",
     "start_time": "2024-05-01T08:48:15.964530165Z"
    }
   },
   "id": "d68441c587b8cc93"
  },
  {
   "cell_type": "code",
   "execution_count": 195,
   "outputs": [],
   "source": [
    "# 生成全0矩阵\n",
    "t1 = torch.zeros(size=(4, 5))\n",
    "t2 = torch.zeros_like(input=t1)\n",
    "# 生成全1矩阵\n",
    "t3 = torch.ones(size=(6, 6), dtype=torch.uint8)\n",
    "t4 = torch.ones_like(input=t3, dtype=torch.int)\n",
    "# 生成填充指定value的矩阵\n",
    "t5 = torch.full(size=(4, 4), fill_value=5)"
   ],
   "metadata": {
    "collapsed": false,
    "ExecuteTime": {
     "end_time": "2024-05-01T08:48:16.710691637Z",
     "start_time": "2024-05-01T08:48:16.668449923Z"
    }
   },
   "id": "8583d7407a6b038a"
  },
  {
   "cell_type": "code",
   "execution_count": 196,
   "outputs": [],
   "source": [
    "# 对角矩阵\n",
    "# n阶单位矩阵\n",
    "t6 = torch.eye(n=3)\n",
    "# 输入对角元素值(1D tensor)组成的列表 ==> 输出对角矩阵(2D tensor)\n",
    "# 输入矩阵(2D tensor) ==> 输出矩阵对角元素(1D tensor)\n",
    "t7 = torch.diag(input=torch.randint(0, 10, (3,)))"
   ],
   "metadata": {
    "collapsed": false,
    "ExecuteTime": {
     "end_time": "2024-05-01T08:48:16.757162157Z",
     "start_time": "2024-05-01T08:48:16.715545072Z"
    }
   },
   "id": "b5961f4bf1440bf1"
  },
  {
   "cell_type": "code",
   "execution_count": 197,
   "outputs": [],
   "source": [
    "# 生成单位矩阵\n",
    "t = torch.rand(size=(3, 3))\n",
    "# 生成指定矩阵的上三角矩阵，高维矩阵通过最后2维计算，diagonal表示最后一维，分界线位置，大于0的元素的索引\n",
    "t12 = torch.triu(input=t, diagonal=0)\n",
    "# 生成指定矩阵的下三角矩阵，参数同上\n",
    "t13 = torch.tril(input=t, diagonal=1)"
   ],
   "metadata": {
    "collapsed": false,
    "ExecuteTime": {
     "end_time": "2024-05-01T08:48:16.943699304Z",
     "start_time": "2024-05-01T08:48:16.939135798Z"
    }
   },
   "id": "d77bf4d237eee2cd"
  },
  {
   "cell_type": "code",
   "execution_count": 198,
   "outputs": [],
   "source": [
    "# 标准正态分布\n",
    "t8 = torch.randn(size=(3, 4))\n",
    "# 生成指定均值mean和方差std的正态分布矩阵\n",
    "t9 = torch.normal(0, std=5, size=(3, 4))"
   ],
   "metadata": {
    "collapsed": false,
    "ExecuteTime": {
     "end_time": "2024-05-01T08:48:17.310528301Z",
     "start_time": "2024-05-01T08:48:17.308720448Z"
    }
   },
   "id": "7e456eab6a2e7f36"
  },
  {
   "cell_type": "code",
   "execution_count": 199,
   "outputs": [],
   "source": [
    "# 生成在[0, 1)区间平均分布的矩阵\n",
    "t10 = torch.rand(size=(8, 8))\n",
    "# 生成在[low, high)区间随机分布的整型矩阵\n",
    "t11 = torch.randint(low=0, high=10, size=(4, 4))\n",
    "# 生成[start, end]范围，长度为steps的1D tensor\n",
    "t12 = torch.linspace(0, 10, steps=16)"
   ],
   "metadata": {
    "collapsed": false,
    "ExecuteTime": {
     "end_time": "2024-05-01T08:48:17.677627527Z",
     "start_time": "2024-05-01T08:48:17.674891856Z"
    }
   },
   "id": "58e7a970f8d28767"
  },
  {
   "cell_type": "code",
   "execution_count": 210,
   "outputs": [],
   "source": [
    "a = torch.rand(size=(4, 4))"
   ],
   "metadata": {
    "collapsed": false,
    "ExecuteTime": {
     "end_time": "2024-05-01T09:28:23.721604807Z",
     "start_time": "2024-05-01T09:28:23.678625914Z"
    }
   },
   "id": "311494632a2e2b06"
  },
  {
   "cell_type": "code",
   "execution_count": null,
   "outputs": [],
   "source": [
    "# 矩阵索引\n",
    "t1.gather(dim=1, index=torch.tensor([[[3, 2], [3, 2], [3, 2]], [[3, 2], [3, 2], [3, 2]]]))\n"
   ],
   "metadata": {
    "collapsed": false
   },
   "id": "1dd969473890e929"
  }
 ],
 "metadata": {
  "kernelspec": {
   "display_name": "Python 3",
   "language": "python",
   "name": "python3"
  },
  "language_info": {
   "codemirror_mode": {
    "name": "ipython",
    "version": 2
   },
   "file_extension": ".py",
   "mimetype": "text/x-python",
   "name": "python",
   "nbconvert_exporter": "python",
   "pygments_lexer": "ipython2",
   "version": "2.7.6"
  }
 },
 "nbformat": 4,
 "nbformat_minor": 5
}
