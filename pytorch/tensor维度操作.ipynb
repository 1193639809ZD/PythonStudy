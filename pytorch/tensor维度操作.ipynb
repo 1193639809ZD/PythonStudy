{
 "cells": [
  {
   "cell_type": "code",
   "execution_count": 1,
   "id": "initial_id",
   "metadata": {
    "collapsed": true,
    "ExecuteTime": {
     "end_time": "2024-05-05T13:02:45.608554712Z",
     "start_time": "2024-05-05T13:02:44.476447085Z"
    }
   },
   "outputs": [],
   "source": [
    "import torch"
   ]
  },
  {
   "cell_type": "code",
   "execution_count": 2,
   "outputs": [],
   "source": [
    "t1 = torch.randint(low=0, high=10, size=((4, 4)))\n",
    "t2 = torch.randint(low=0, high=10, size=(4, 4, 5))"
   ],
   "metadata": {
    "collapsed": false,
    "ExecuteTime": {
     "end_time": "2024-05-05T13:02:46.550932947Z",
     "start_time": "2024-05-05T13:02:46.526720111Z"
    }
   },
   "id": "adc5e2d8960e487c"
  },
  {
   "cell_type": "code",
   "execution_count": 3,
   "outputs": [],
   "source": [
    "# 增加指定维度，将导致插入维度之前的数据维度上移\n",
    "res1 = t1.unsqueeze(dim=1)  # 可以理解成新增了一个维度，并将0和1维度调换\n",
    "# 删除指定维度\n",
    "res2 = res1.squeeze(dim=1)"
   ],
   "metadata": {
    "collapsed": false,
    "ExecuteTime": {
     "end_time": "2024-05-05T13:02:46.931827052Z",
     "start_time": "2024-05-05T13:02:46.929901714Z"
    }
   },
   "id": "b3e84abaf5319944"
  },
  {
   "cell_type": "code",
   "execution_count": 4,
   "outputs": [],
   "source": [
    "# 维度扩展：只能扩展新的高纬度，和尺度为1的低纬度\n",
    "res3 = t1.expand(size=(1, 4, 4, 4))"
   ],
   "metadata": {
    "collapsed": false,
    "ExecuteTime": {
     "end_time": "2024-05-05T13:02:47.172547368Z",
     "start_time": "2024-05-05T13:02:47.156964579Z"
    }
   },
   "id": "aa82f0d90c8e3405"
  },
  {
   "cell_type": "code",
   "execution_count": 5,
   "outputs": [],
   "source": [
    "# 维度调整，可以理解成0和2维构成的所有平面进行的翻转\n",
    "res4 = t2.transpose(0, 2)\n",
    "# 多维度调整，dims为旧tensor的维度序列\n",
    "res5 = t2.permute(dims=(2, 1, 0))"
   ],
   "metadata": {
    "collapsed": false,
    "ExecuteTime": {
     "end_time": "2024-05-05T13:02:47.356644567Z",
     "start_time": "2024-05-05T13:02:47.351880873Z"
    }
   },
   "id": "865612e7d421fc73"
  },
  {
   "cell_type": "code",
   "execution_count": 6,
   "outputs": [],
   "source": [
    "# tensor复制\n",
    "# 返回一个地址连续的新的tensor，原本地址连续也返回新的，使用transpose和permute调整矩阵维度会导致地址不连续\n",
    "res6 = t2.contiguous()\n",
    "# 复制一个矩阵，不共享地址，但是requires_grad属性相同\n",
    "res7 = t2.clone()\n",
    "# 复制一个矩阵，共享地址，但是requires_grad为False，和clone结合使用，clone().detach()生成一个新的不算梯度的tensor\n",
    "res8 = t2.detach()"
   ],
   "metadata": {
    "collapsed": false,
    "ExecuteTime": {
     "end_time": "2024-05-05T13:02:47.536795287Z",
     "start_time": "2024-05-05T13:02:47.526784509Z"
    }
   },
   "id": "3878060fb59398d7"
  },
  {
   "cell_type": "code",
   "execution_count": 7,
   "outputs": [],
   "source": [
    "# 返回新的tensor视图\n",
    "# 从低维到高维调整tensor的视图，原地址不变，需要tensor的地址是连续的\n",
    "res9 = res1.view(4, 4)\n",
    "# 地址连续与view功能相同，返回矩阵为同一个矩阵，区别在于如果tensor地址不连续，复制一份新的tensor再调整并返回，此时地址不同\n",
    "res10 = res4.reshape(5, 4, 4)"
   ],
   "metadata": {
    "collapsed": false,
    "ExecuteTime": {
     "end_time": "2024-05-05T13:02:47.724559083Z",
     "start_time": "2024-05-05T13:02:47.717562333Z"
    }
   },
   "id": "c3a2d719a701987a"
  },
  {
   "cell_type": "code",
   "execution_count": 7,
   "outputs": [],
   "source": [],
   "metadata": {
    "collapsed": false,
    "ExecuteTime": {
     "end_time": "2024-05-05T13:02:47.937239530Z",
     "start_time": "2024-05-05T13:02:47.912929757Z"
    }
   },
   "id": "880609c02a40810f"
  },
  {
   "cell_type": "code",
   "execution_count": null,
   "outputs": [],
   "source": [],
   "metadata": {
    "collapsed": false
   },
   "id": "979576e0691e3d0a"
  }
 ],
 "metadata": {
  "kernelspec": {
   "display_name": "Python 3",
   "language": "python",
   "name": "python3"
  },
  "language_info": {
   "codemirror_mode": {
    "name": "ipython",
    "version": 2
   },
   "file_extension": ".py",
   "mimetype": "text/x-python",
   "name": "python",
   "nbconvert_exporter": "python",
   "pygments_lexer": "ipython2",
   "version": "2.7.6"
  }
 },
 "nbformat": 4,
 "nbformat_minor": 5
}
