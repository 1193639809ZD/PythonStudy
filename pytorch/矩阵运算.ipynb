{
 "cells": [
  {
   "cell_type": "code",
   "execution_count": 1,
   "id": "initial_id",
   "metadata": {
    "ExecuteTime": {
     "end_time": "2024-05-01T10:57:14.002781505Z",
     "start_time": "2024-05-01T10:57:12.805018442Z"
    },
    "collapsed": true
   },
   "outputs": [],
   "source": [
    "import torch"
   ]
  },
  {
   "cell_type": "code",
   "execution_count": 80,
   "id": "297287720a05dc1d",
   "metadata": {
    "ExecuteTime": {
     "end_time": "2024-05-01T11:31:12.461628373Z",
     "start_time": "2024-05-01T11:31:12.425332869Z"
    },
    "collapsed": false
   },
   "outputs": [],
   "source": [
    "t1 = torch.ones(size=(3, 3), dtype=torch.int)\n",
    "t2 = torch.full(size=(3, 3), fill_value=4, dtype=torch.int)\n",
    "\n",
    "# 矩阵加法：+\n",
    "res1 = torch.add(t1, t2)\n",
    "# 矩阵减法：-\n",
    "res2 = torch.subtract(t1, t2)\n",
    "# 矩阵乘法：@\n",
    "res3 = torch.matmul(t1, t2)\n",
    "# 矩阵数乘：*\n",
    "res4 = torch.mul(t1, t2)\n",
    "# 矩阵除法：/\n",
    "res5 = torch.divide(t1, t2)\n",
    "# 矩阵取模：%\n",
    "res6 = torch.fmod(t1, t2)"
   ]
  },
  {
   "cell_type": "code",
   "execution_count": 83,
   "id": "d959e678f05c4a5b",
   "metadata": {
    "ExecuteTime": {
     "end_time": "2024-05-01T11:31:19.859970703Z",
     "start_time": "2024-05-01T11:31:19.819820970Z"
    },
    "collapsed": false
   },
   "outputs": [
    {
     "name": "stdout",
     "output_type": "stream",
     "text": [
      "tensor(0.6219)\n"
     ]
    }
   ],
   "source": [
    "t3 = torch.rand(size=(4,))\n",
    "t4 = torch.rand(size=(4,))\n",
    "# 向量内积\n",
    "print(torch.dot(t3, t4))"
   ]
  },
  {
   "cell_type": "code",
   "execution_count": 97,
   "id": "e711ec3f670a79e4",
   "metadata": {
    "ExecuteTime": {
     "end_time": "2024-05-01T11:38:51.889505762Z",
     "start_time": "2024-05-01T11:38:51.842352552Z"
    },
    "collapsed": false
   },
   "outputs": [
    {
     "name": "stdout",
     "output_type": "stream",
     "text": [
      "tensor([[-1, -1, -1],\n",
      "        [-1, -1, -1],\n",
      "        [-1, -1, -1]], dtype=torch.int32)\n"
     ]
    }
   ],
   "source": [
    "# 矩阵幂运算：**\n",
    "res7 = torch.pow(t2, 2)\n",
    "# 矩阵指数运算：指数底为e\n",
    "res8 = torch.exp(t1)\n",
    "# 矩阵转置：T\n",
    "res9 = torch.t(t1)\n",
    "# 矩阵对数运算：底为e\n",
    "res10 = torch.log(t1)\n",
    "# 矩阵取负：-\n",
    "res11 = torch.negative(t1)\n",
    "print(-t1)"
   ]
  },
  {
   "cell_type": "code",
   "execution_count": 114,
   "id": "f18d1816cede1dc4",
   "metadata": {
    "ExecuteTime": {
     "end_time": "2024-05-01T11:59:40.555757796Z",
     "start_time": "2024-05-01T11:59:40.511070673Z"
    },
    "collapsed": false
   },
   "outputs": [
    {
     "name": "stdout",
     "output_type": "stream",
     "text": [
      "tensor([[0.2102, 0.2744, 0.3074, 0.2114],\n",
      "        [0.2944, 0.1757, 0.2085, 0.3287],\n",
      "        [0.3377, 0.2943, 0.2997, 0.1879],\n",
      "        [0.1577, 0.2555, 0.1844, 0.2720]])\n"
     ]
    }
   ],
   "source": [
    "# 累计和\n",
    "res12 = torch.cumsum(input=t1, dim=0)\n",
    "# 累计最小值\n",
    "res13 = torch.cummin(input=t1, dim=0)\n",
    "# 累计最大值\n",
    "res14 = torch.cummax(input=t1, dim=0)\n",
    "# softmax\n",
    "res15 = torch.softmax(input=t1, dim=0)"
   ]
  },
  {
   "cell_type": "code",
   "execution_count": null,
   "id": "4d572d307e72f4ff",
   "metadata": {
    "collapsed": false
   },
   "outputs": [],
   "source": [
    "# split 拆分\n",
    "x = torch.rand(4, 8, 6)\n",
    "y = torch.split(x, 2, dim=1)"
   ]
  },
  {
   "cell_type": "code",
   "execution_count": 8,
   "id": "27b3521c",
   "metadata": {},
   "outputs": [],
   "source": [
    "s = (i for i in range(1, 3))"
   ]
  },
  {
   "cell_type": "code",
   "execution_count": 9,
   "id": "5bb7d51b",
   "metadata": {},
   "outputs": [
    {
     "data": {
      "text/plain": [
       "generator"
      ]
     },
     "execution_count": 9,
     "metadata": {},
     "output_type": "execute_result"
    }
   ],
   "source": [
    "type(s)"
   ]
  },
  {
   "cell_type": "code",
   "execution_count": 7,
   "id": "1108429f",
   "metadata": {},
   "outputs": [
    {
     "name": "stdout",
     "output_type": "stream",
     "text": [
      "2\n"
     ]
    }
   ],
   "source": [
    "for i in s:\n",
    "    print(i)"
   ]
  },
  {
   "cell_type": "code",
   "execution_count": null,
   "id": "2311a8fb",
   "metadata": {},
   "outputs": [],
   "source": []
  }
 ],
 "metadata": {
  "kernelspec": {
   "display_name": "Python 3",
   "language": "python",
   "name": "python3"
  },
  "language_info": {
   "codemirror_mode": {
    "name": "ipython",
    "version": 3
   },
   "file_extension": ".py",
   "mimetype": "text/x-python",
   "name": "python",
   "nbconvert_exporter": "python",
   "pygments_lexer": "ipython3",
   "version": "3.12.4"
  }
 },
 "nbformat": 4,
 "nbformat_minor": 5
}
