{
 "cells": [
  {
   "cell_type": "code",
   "execution_count": 1,
   "id": "initial_id",
   "metadata": {
    "collapsed": true,
    "ExecuteTime": {
     "end_time": "2024-05-05T13:02:34.524565482Z",
     "start_time": "2024-05-05T13:02:33.393457121Z"
    }
   },
   "outputs": [],
   "source": [
    "import torch"
   ]
  },
  {
   "cell_type": "code",
   "execution_count": 2,
   "outputs": [],
   "source": [
    "t1 = torch.randint(low=0, high=10, size=(3, 4, 5))\n",
    "t2 = torch.randint(low=0, high=10, size=(3, 4))"
   ],
   "metadata": {
    "collapsed": false,
    "ExecuteTime": {
     "end_time": "2024-05-05T13:02:37.281116078Z",
     "start_time": "2024-05-05T13:02:37.266712940Z"
    }
   },
   "id": "4127892793d0f9e1"
  },
  {
   "cell_type": "code",
   "execution_count": 3,
   "outputs": [
    {
     "ename": "RuntimeError",
     "evalue": "stack expects each tensor to be equal size, but got [3, 4, 5] at entry 0 and [3, 4] at entry 1",
     "output_type": "error",
     "traceback": [
      "\u001B[0;31m---------------------------------------------------------------------------\u001B[0m",
      "\u001B[0;31mRuntimeError\u001B[0m                              Traceback (most recent call last)",
      "Cell \u001B[0;32mIn[3], line 2\u001B[0m\n\u001B[1;32m      1\u001B[0m \u001B[38;5;66;03m# 矩阵拼接\u001B[39;00m\n\u001B[0;32m----> 2\u001B[0m res1 \u001B[38;5;241m=\u001B[39m torch\u001B[38;5;241m.\u001B[39mstack(tensors\u001B[38;5;241m=\u001B[39m(t1, t2), dim\u001B[38;5;241m=\u001B[39m\u001B[38;5;241m1\u001B[39m)\n\u001B[1;32m      3\u001B[0m res2 \u001B[38;5;241m=\u001B[39m torch\u001B[38;5;241m.\u001B[39mcat(tensors\u001B[38;5;241m=\u001B[39m[t1, t2], dim\u001B[38;5;241m=\u001B[39m\u001B[38;5;241m1\u001B[39m)\n",
      "\u001B[0;31mRuntimeError\u001B[0m: stack expects each tensor to be equal size, but got [3, 4, 5] at entry 0 and [3, 4] at entry 1"
     ]
    }
   ],
   "source": [
    "# 矩阵拼接\n",
    "res1 = torch.stack(tensors=(t1, t2), dim=1)\n",
    "res2 = torch.cat(tensors=[t1, t2], dim=1)"
   ],
   "metadata": {
    "collapsed": false,
    "ExecuteTime": {
     "end_time": "2024-05-05T13:02:38.104942009Z",
     "start_time": "2024-05-05T13:02:37.697079965Z"
    }
   },
   "id": "f9157916f4dfa7f2"
  },
  {
   "cell_type": "code",
   "execution_count": 54,
   "outputs": [],
   "source": [
    "res3 = torch.flatten(t1, 0)"
   ],
   "metadata": {
    "collapsed": false,
    "ExecuteTime": {
     "end_time": "2024-05-03T06:44:51.998647606Z",
     "start_time": "2024-05-03T06:44:51.950276255Z"
    }
   },
   "id": "c6209c20d8ffd504"
  },
  {
   "cell_type": "code",
   "execution_count": 68,
   "outputs": [],
   "source": [
    "res4 = t1.clamp(min=3, max=6)"
   ],
   "metadata": {
    "collapsed": false,
    "ExecuteTime": {
     "end_time": "2024-05-03T07:08:04.664753360Z",
     "start_time": "2024-05-03T07:08:04.618714437Z"
    }
   },
   "id": "1b7dea16859eb3d2"
  },
  {
   "cell_type": "code",
   "execution_count": 133,
   "outputs": [],
   "source": [
    "res5 = t2.repeat(2, 2, 1)"
   ],
   "metadata": {
    "collapsed": false,
    "ExecuteTime": {
     "end_time": "2024-05-03T08:17:53.157137077Z",
     "start_time": "2024-05-03T08:17:53.108752712Z"
    }
   },
   "id": "e77db161c299cb79"
  },
  {
   "cell_type": "code",
   "execution_count": 138,
   "outputs": [],
   "source": [],
   "metadata": {
    "collapsed": false,
    "ExecuteTime": {
     "end_time": "2024-05-03T08:21:31.451863419Z",
     "start_time": "2024-05-03T08:21:31.405082487Z"
    }
   },
   "id": "6303ff30a607650c"
  }
 ],
 "metadata": {
  "kernelspec": {
   "display_name": "Python 3",
   "language": "python",
   "name": "python3"
  },
  "language_info": {
   "codemirror_mode": {
    "name": "ipython",
    "version": 2
   },
   "file_extension": ".py",
   "mimetype": "text/x-python",
   "name": "python",
   "nbconvert_exporter": "python",
   "pygments_lexer": "ipython2",
   "version": "2.7.6"
  }
 },
 "nbformat": 4,
 "nbformat_minor": 5
}
