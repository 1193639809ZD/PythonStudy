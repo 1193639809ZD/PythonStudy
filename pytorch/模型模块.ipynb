{
 "cells": [
  {
   "cell_type": "code",
   "execution_count": 1,
   "id": "initial_id",
   "metadata": {
    "collapsed": true,
    "ExecuteTime": {
     "end_time": "2024-05-04T07:13:04.897160116Z",
     "start_time": "2024-05-04T07:13:03.542826285Z"
    }
   },
   "outputs": [],
   "source": [
    "import torch\n",
    "from torch import nn"
   ]
  },
  {
   "cell_type": "code",
   "execution_count": 52,
   "outputs": [
    {
     "name": "stdout",
     "output_type": "stream",
     "text": [
      "out_con1.shape:torch.Size([3, 8, 10])\n",
      "out_con1.shape:torch.Size([3, 10, 8])\n"
     ]
    }
   ],
   "source": [
    "data = torch.rand(3, 8, 10)\n",
    "# 线性层\n",
    "linear1 = nn.Linear(in_features=10, out_features=10)\n",
    "print(f'out_con1.shape:{linear1(data).shape}')\n",
    "\n",
    "# 1D卷积层\n",
    "conv1 = nn.Conv1d(in_channels=8, out_channels=10, kernel_size=3)\n",
    "print(f'out_con1.shape:{conv1(data).shape}')"
   ],
   "metadata": {
    "collapsed": false,
    "ExecuteTime": {
     "end_time": "2024-05-03T10:59:30.459849497Z",
     "start_time": "2024-05-03T10:59:30.418816207Z"
    }
   },
   "id": "36bf0c11d6a82f83"
  },
  {
   "cell_type": "code",
   "execution_count": 67,
   "outputs": [
    {
     "name": "stdout",
     "output_type": "stream",
     "text": [
      "out_conv2:torch.Size([4, 4, 14, 14]); conv2.weight:torch.Size([4, 3, 3, 3]); conv2.bias:torch.Size([4])\n",
      "out_conv3:torch.Size([2, 1, 14, 14]); conv3.weight:torch.Size([2, 4, 3, 3, 3]); conv3.bias:torch.Size([2])\n"
     ]
    }
   ],
   "source": [
    "data = torch.rand(size=(4, 3, 16, 16))\n",
    "# 2D卷积层：卷积为图片\n",
    "conv2 = nn.Conv2d(in_channels=3, out_channels=4, kernel_size=3)\n",
    "# 3D卷积层：卷积为视频，比图片多个时间轴\n",
    "conv3 = nn.Conv3d(in_channels=4, out_channels=2, kernel_size=3)\n",
    "\n",
    "out_conv2 = conv2(data)\n",
    "out_conv3 = conv3(data)\n",
    "\n",
    "print(f'out_conv2:{out_conv2.shape}; conv2.weight:{conv2.weight.shape}; conv2.bias:{conv2.bias.shape}')\n",
    "print(f'out_conv3:{out_conv3.shape}; conv3.weight:{conv3.weight.shape}; conv3.bias:{conv3.bias.shape}')"
   ],
   "metadata": {
    "collapsed": false,
    "ExecuteTime": {
     "end_time": "2024-05-03T11:08:31.169556348Z",
     "start_time": "2024-05-03T11:08:31.129697516Z"
    }
   },
   "id": "15bfcc2152bb155c"
  },
  {
   "cell_type": "code",
   "execution_count": 96,
   "outputs": [
    {
     "name": "stdout",
     "output_type": "stream",
     "text": [
      "out_relu: torch.Size([4, 3, 16, 16])\n",
      "out_leaky_relu: torch.Size([4, 3, 16, 16])\n",
      "out_gelu: torch.Size([4, 3, 16, 16])\n",
      "out_sigmoid: torch.Size([4, 3, 16, 16])\n",
      "out_tanh: torch.Size([4, 3, 16, 16])\n",
      "out_hardswish: torch.Size([4, 3, 16, 16])\n"
     ]
    }
   ],
   "source": [
    "data = torch.rand(size=(4, 3, 16, 16))\n",
    "# 激活函数\n",
    "relu = nn.ReLU()\n",
    "print(f'out_relu: {relu(data).shape}')\n",
    "\n",
    "leaky_relu = nn.LeakyReLU()\n",
    "print(f'out_leaky_relu: {leaky_relu(data).shape}')\n",
    "\n",
    "gelu = nn.GELU()\n",
    "print(f'out_gelu: {gelu(data).shape}')\n",
    "\n",
    "sigmoid = nn.Sigmoid()\n",
    "print(f'out_sigmoid: {sigmoid(data).shape}')\n",
    "\n",
    "tanh = nn.Tanh()\n",
    "print(f'out_tanh: {tanh(data).shape}')\n",
    "\n",
    "hardswish = nn.Hardswish()\n",
    "print(f'out_hardswish: {hardswish(data).shape}')"
   ],
   "metadata": {
    "collapsed": false,
    "ExecuteTime": {
     "end_time": "2024-05-03T12:04:13.855645228Z",
     "start_time": "2024-05-03T12:04:13.810422004Z"
    }
   },
   "id": "2d685a3a7bcf92b5"
  },
  {
   "cell_type": "code",
   "execution_count": 55,
   "outputs": [
    {
     "name": "stdout",
     "output_type": "stream",
     "text": [
      "bn1:torch.Size([8, 10]); bn1.weight:torch.Size([10]); bn1.bias:torch.Size([10])\n",
      "bn1:torch.Size([4, 3, 8, 8]); bn2.weight:torch.Size([3]); bn2.bias:torch.Size([3])\n",
      "bn1:torch.Size([2, 4, 3, 8, 8]); bn3.weight:torch.Size([4]); bn3.bias:torch.Size([4])\n",
      "bn1:torch.Size([4, 6, 8]); bn3.weight:torch.Size([8]); bn3.bias:torch.Size([8])\n"
     ]
    }
   ],
   "source": [
    "# 正则化层\n",
    "\n",
    "# BN：以特征为单位进行归一化，根据样本的特征不同有1D、2D、3D可选\n",
    "# BN1d：接受2D或3D数据\n",
    "bn1 = nn.BatchNorm1d(num_features=10)\n",
    "out_bn1 = bn1(torch.rand(size=(8, 10)))\n",
    "print(f'bn1:{out_bn1.shape}; bn1.weight:{bn1.weight.shape}; bn1.bias:{bn1.bias.shape}')\n",
    "\n",
    "# BN2d：只接受4D\n",
    "bn2 = nn.BatchNorm2d(num_features=3)\n",
    "out_bn2 = bn2(torch.rand(size=(4, 3, 8, 8)))\n",
    "print(f'bn1:{out_bn2.shape}; bn2.weight:{bn2.weight.shape}; bn2.bias:{bn2.bias.shape}')\n",
    "\n",
    "# BN3d：只接受5D\n",
    "bn3 = nn.BatchNorm3d(num_features=4)\n",
    "out_bn3 = bn3(torch.rand(size=(2, 4, 3, 8, 8)))\n",
    "print(f'bn1:{out_bn3.shape}; bn3.weight:{bn3.weight.shape}; bn3.bias:{bn3.bias.shape}')\n",
    "\n",
    "# LN以样本为单位进行归一化，normalized_shape可选，int or list\n",
    "ln = nn.LayerNorm(normalized_shape=8)\n",
    "out_ln = ln(torch.rand(size=(4, 6, 8)))\n",
    "print(f'bn1:{out_ln.shape}; bn3.weight:{ln.weight.shape}; bn3.bias:{ln.bias.shape}')\n",
    "\n",
    "# GroupNorm\n",
    "# gn = nn.GroupNorm(num_channels=10, num_groups=10)\n",
    "\n",
    "# RMSNorm\n"
   ],
   "metadata": {
    "collapsed": false,
    "ExecuteTime": {
     "end_time": "2024-05-04T06:28:12.093316339Z",
     "start_time": "2024-05-04T06:28:12.056221660Z"
    }
   },
   "id": "19481b51102445ef"
  },
  {
   "cell_type": "code",
   "execution_count": 3,
   "outputs": [],
   "source": [
    "# Dropout层， p为消除的参数比例\n",
    "drop = nn.Dropout(p=0.3)\n",
    "\n",
    "drop(torch.rand(size=(3, 4, 8)))"
   ],
   "metadata": {
    "collapsed": false,
    "ExecuteTime": {
     "end_time": "2024-05-04T07:29:38.694849081Z",
     "start_time": "2024-05-04T07:29:38.651025371Z"
    }
   },
   "id": "37a17e6a2e293ed3"
  },
  {
   "cell_type": "code",
   "execution_count": 52,
   "outputs": [],
   "source": [
    "class MyNet(nn.Module):\n",
    "    def __init__(self):\n",
    "        super(MyNet, self).__init__()\n",
    "        self.conv1 = nn.Conv2d(in_channels=3, out_channels=64, kernel_size=3)\n",
    "        self.conv2 = nn.Conv2d(64, 64, 3)\n",
    "        self.maxpool1 = nn.MaxPool2d(2, 2)\n",
    "\n",
    "        self.features = nn.Sequential(\n",
    "            nn.Conv2d(64, 128, 3),\n",
    "            nn.Conv2d(128, 128, 3),\n",
    "            nn.BatchNorm2d(num_features=128),\n",
    "            nn.ReLU()\n",
    "        )\n",
    "\n",
    "        self.features_list = nn.ModuleList([nn.Linear(128, 256), nn.ReLU()])\n",
    "\n",
    "    def forward(self, x):\n",
    "        x = self.conv1(x)\n",
    "        x = self.conv2(x)\n",
    "        x = self.maxpool1(x)\n",
    "        x = self.features(x)\n",
    "\n",
    "        return x\n",
    "\n",
    "\n",
    "net = MyNet()"
   ],
   "metadata": {
    "collapsed": false,
    "ExecuteTime": {
     "end_time": "2024-05-04T11:10:29.091033990Z",
     "start_time": "2024-05-04T11:10:29.053903317Z"
    }
   },
   "id": "a4fc7dd9a52966c0"
  },
  {
   "cell_type": "code",
   "execution_count": 45,
   "outputs": [
    {
     "name": "stdout",
     "output_type": "stream",
     "text": [
      "MyNet(\n",
      "  (conv1): Conv2d(3, 64, kernel_size=(3, 3), stride=(1, 1))\n",
      "  (conv2): Conv2d(64, 64, kernel_size=(3, 3), stride=(1, 1))\n",
      "  (maxpool1): MaxPool2d(kernel_size=2, stride=2, padding=0, dilation=1, ceil_mode=False)\n",
      "  (features): Sequential(\n",
      "    (0): Conv2d(64, 128, kernel_size=(3, 3), stride=(1, 1))\n",
      "    (1): Conv2d(128, 128, kernel_size=(3, 3), stride=(1, 1))\n",
      "    (2): ReLU()\n",
      "  )\n",
      "  (features_list): ModuleList(\n",
      "    (0): Linear(in_features=128, out_features=256, bias=True)\n",
      "    (1): ReLU()\n",
      "  )\n",
      ")\n",
      "==================================================\n",
      "Conv2d(3, 64, kernel_size=(3, 3), stride=(1, 1))\n",
      "==================================================\n",
      "Conv2d(64, 64, kernel_size=(3, 3), stride=(1, 1))\n",
      "==================================================\n",
      "MaxPool2d(kernel_size=2, stride=2, padding=0, dilation=1, ceil_mode=False)\n",
      "==================================================\n",
      "Sequential(\n",
      "  (0): Conv2d(64, 128, kernel_size=(3, 3), stride=(1, 1))\n",
      "  (1): Conv2d(128, 128, kernel_size=(3, 3), stride=(1, 1))\n",
      "  (2): ReLU()\n",
      ")\n",
      "==================================================\n",
      "Conv2d(64, 128, kernel_size=(3, 3), stride=(1, 1))\n",
      "==================================================\n",
      "Conv2d(128, 128, kernel_size=(3, 3), stride=(1, 1))\n",
      "==================================================\n",
      "ReLU()\n",
      "==================================================\n",
      "ModuleList(\n",
      "  (0): Linear(in_features=128, out_features=256, bias=True)\n",
      "  (1): ReLU()\n",
      ")\n",
      "==================================================\n",
      "Linear(in_features=128, out_features=256, bias=True)\n",
      "==================================================\n",
      "ReLU()\n",
      "==================================================\n"
     ]
    }
   ],
   "source": [
    "# 迭代返回每个网络模块，从大到小逐个遍历\n",
    "# 第一个元素是网络整体\n",
    "for item in net.modules():\n",
    "    print(item)\n",
    "    print('==================================================')"
   ],
   "metadata": {
    "collapsed": false,
    "ExecuteTime": {
     "end_time": "2024-05-04T10:01:45.325834933Z",
     "start_time": "2024-05-04T10:01:45.276977182Z"
    }
   },
   "id": "3ca87761958d8abc"
  },
  {
   "cell_type": "code",
   "execution_count": 58,
   "outputs": [
    {
     "name": "stdout",
     "output_type": "stream",
     "text": [
      "name:\n",
      "module:MyNet(\n",
      "  (conv1): Conv2d(3, 64, kernel_size=(3, 3), stride=(1, 1))\n",
      "  (conv2): Conv2d(64, 64, kernel_size=(3, 3), stride=(1, 1))\n",
      "  (maxpool1): MaxPool2d(kernel_size=2, stride=2, padding=0, dilation=1, ceil_mode=False)\n",
      "  (features): Sequential(\n",
      "    (0): Conv2d(64, 128, kernel_size=(3, 3), stride=(1, 1))\n",
      "    (1): Conv2d(128, 128, kernel_size=(3, 3), stride=(1, 1))\n",
      "    (2): BatchNorm2d(128, eps=1e-05, momentum=0.1, affine=True, track_running_stats=True)\n",
      "    (3): ReLU()\n",
      "  )\n",
      "  (features_list): ModuleList(\n",
      "    (0): Linear(in_features=128, out_features=256, bias=True)\n",
      "    (1): ReLU()\n",
      "  )\n",
      ")\n",
      "==================================================\n",
      "name:conv1\n",
      "module:Conv2d(3, 64, kernel_size=(3, 3), stride=(1, 1))\n",
      "==================================================\n",
      "name:conv2\n",
      "module:Conv2d(64, 64, kernel_size=(3, 3), stride=(1, 1))\n",
      "==================================================\n",
      "name:maxpool1\n",
      "module:MaxPool2d(kernel_size=2, stride=2, padding=0, dilation=1, ceil_mode=False)\n",
      "==================================================\n",
      "name:features\n",
      "module:Sequential(\n",
      "  (0): Conv2d(64, 128, kernel_size=(3, 3), stride=(1, 1))\n",
      "  (1): Conv2d(128, 128, kernel_size=(3, 3), stride=(1, 1))\n",
      "  (2): BatchNorm2d(128, eps=1e-05, momentum=0.1, affine=True, track_running_stats=True)\n",
      "  (3): ReLU()\n",
      ")\n",
      "==================================================\n",
      "name:features.0\n",
      "module:Conv2d(64, 128, kernel_size=(3, 3), stride=(1, 1))\n",
      "==================================================\n",
      "name:features.1\n",
      "module:Conv2d(128, 128, kernel_size=(3, 3), stride=(1, 1))\n",
      "==================================================\n",
      "name:features.2\n",
      "module:BatchNorm2d(128, eps=1e-05, momentum=0.1, affine=True, track_running_stats=True)\n",
      "==================================================\n",
      "name:features.3\n",
      "module:ReLU()\n",
      "==================================================\n",
      "name:features_list\n",
      "module:ModuleList(\n",
      "  (0): Linear(in_features=128, out_features=256, bias=True)\n",
      "  (1): ReLU()\n",
      ")\n",
      "==================================================\n",
      "name:features_list.0\n",
      "module:Linear(in_features=128, out_features=256, bias=True)\n",
      "==================================================\n",
      "name:features_list.1\n",
      "module:ReLU()\n",
      "==================================================\n"
     ]
    }
   ],
   "source": [
    "# 与modules()类似，只是也返回了名字\n",
    "# 第一个元素，name为空 '', 为网络整体\n",
    "# 如果中间出现序列，序列名字是 特征名.序列号    如 features.0\n",
    "# ModuleList也一样，如 feature_list.0\n",
    "for name, m in net.named_modules():\n",
    "    print(f\"name:{name}\\nmodule:{m}\")\n",
    "    print('==================================================')\n",
    "\n",
    "# 冻结权重\n",
    "# 可以通过名字、模型类型锁定指定类别，注意如果有些模块没有可学习的参数，可能报错\n",
    "for name, item in net.named_modules():\n",
    "    # 通过名字搜索\n",
    "    if name.startswith('conv'):\n",
    "        item.weight.requires_grad = False\n",
    "        item.bias.requires_grad = False\n",
    "    # 通过类别搜索\n",
    "    if isinstance(item, nn.Conv2d):\n",
    "        item.weight.requires_grad = False\n",
    "        item.bias.requires_grad = False"
   ],
   "metadata": {
    "collapsed": false,
    "ExecuteTime": {
     "end_time": "2024-05-04T11:37:45.206140015Z",
     "start_time": "2024-05-04T11:37:45.160102086Z"
    }
   },
   "id": "d4608fe5915e9c53"
  },
  {
   "cell_type": "code",
   "execution_count": 56,
   "outputs": [
    {
     "name": "stdout",
     "output_type": "stream",
     "text": [
      "torch.Size([64, 3, 3, 3])\n",
      "torch.Size([64])\n",
      "torch.Size([64, 64, 3, 3])\n",
      "torch.Size([64])\n",
      "torch.Size([128, 64, 3, 3])\n",
      "torch.Size([128])\n",
      "torch.Size([128, 128, 3, 3])\n",
      "torch.Size([128])\n",
      "torch.Size([128])\n",
      "torch.Size([128])\n",
      "torch.Size([256, 128])\n",
      "torch.Size([256])\n"
     ]
    }
   ],
   "source": [
    "# 优化器参数optimizer的参数\n",
    "# 返回网络所有可学习参数\n",
    "for p in net.parameters():\n",
    "    print(p.shape)"
   ],
   "metadata": {
    "collapsed": false,
    "ExecuteTime": {
     "end_time": "2024-05-04T11:35:49.605725455Z",
     "start_time": "2024-05-04T11:35:49.546816999Z"
    }
   },
   "id": "6dc92bf091926b4b"
  },
  {
   "cell_type": "code",
   "execution_count": 53,
   "outputs": [
    {
     "name": "stdout",
     "output_type": "stream",
     "text": [
      "name:conv1.weight, parameter:torch.Size([64, 3, 3, 3])\n",
      "name:conv1.bias, parameter:torch.Size([64])\n",
      "name:conv2.weight, parameter:torch.Size([64, 64, 3, 3])\n",
      "name:conv2.bias, parameter:torch.Size([64])\n",
      "name:features.0.weight, parameter:torch.Size([128, 64, 3, 3])\n",
      "name:features.0.bias, parameter:torch.Size([128])\n",
      "name:features.1.weight, parameter:torch.Size([128, 128, 3, 3])\n",
      "name:features.1.bias, parameter:torch.Size([128])\n",
      "name:features.2.weight, parameter:torch.Size([128])\n",
      "name:features.2.bias, parameter:torch.Size([128])\n",
      "name:features_list.0.weight, parameter:torch.Size([256, 128])\n",
      "name:features_list.0.bias, parameter:torch.Size([256])\n"
     ]
    }
   ],
   "source": [
    "# 可以通过名字锁定指定模块\n",
    "for name, p in net.named_parameters():\n",
    "    print(f\"name:{name}, parameter:{p.shape}\")"
   ],
   "metadata": {
    "collapsed": false,
    "ExecuteTime": {
     "end_time": "2024-05-04T11:10:33.806496282Z",
     "start_time": "2024-05-04T11:10:33.759619170Z"
    }
   },
   "id": "ffb527ece7cd43c3"
  },
  {
   "cell_type": "code",
   "execution_count": 67,
   "outputs": [
    {
     "name": "stdout",
     "output_type": "stream",
     "text": [
      "Conv2d(3, 64, kernel_size=(3, 3), stride=(1, 1))\n",
      "---------------------------------------------------------\n",
      "Conv2d(64, 64, kernel_size=(3, 3), stride=(1, 1))\n",
      "---------------------------------------------------------\n",
      "MaxPool2d(kernel_size=2, stride=2, padding=0, dilation=1, ceil_mode=False)\n",
      "---------------------------------------------------------\n",
      "Sequential(\n",
      "  (0): Conv2d(64, 128, kernel_size=(3, 3), stride=(1, 1))\n",
      "  (1): Conv2d(128, 128, kernel_size=(3, 3), stride=(1, 1))\n",
      "  (2): BatchNorm2d(128, eps=1e-05, momentum=0.1, affine=True, track_running_stats=True)\n",
      "  (3): ReLU()\n",
      ")\n",
      "---------------------------------------------------------\n",
      "ModuleList(\n",
      "  (0): Linear(in_features=128, out_features=256, bias=True)\n",
      "  (1): ReLU()\n",
      ")\n",
      "---------------------------------------------------------\n"
     ]
    }
   ],
   "source": [
    "for item in net.children():\n",
    "    print(item)\n",
    "    print('---------------------------------------------------------')"
   ],
   "metadata": {
    "collapsed": false,
    "ExecuteTime": {
     "end_time": "2024-05-04T11:45:30.470776564Z",
     "start_time": "2024-05-04T11:45:30.459751200Z"
    }
   },
   "id": "25e7b8f88980c3cb"
  },
  {
   "cell_type": "code",
   "execution_count": 66,
   "outputs": [
    {
     "name": "stdout",
     "output_type": "stream",
     "text": [
      "conv1 Conv2d(3, 64, kernel_size=(3, 3), stride=(1, 1))\n",
      "--------------------------------------------------------\n",
      "conv2 Conv2d(64, 64, kernel_size=(3, 3), stride=(1, 1))\n",
      "--------------------------------------------------------\n",
      "maxpool1 MaxPool2d(kernel_size=2, stride=2, padding=0, dilation=1, ceil_mode=False)\n",
      "--------------------------------------------------------\n",
      "features Sequential(\n",
      "  (0): Conv2d(64, 128, kernel_size=(3, 3), stride=(1, 1))\n",
      "  (1): Conv2d(128, 128, kernel_size=(3, 3), stride=(1, 1))\n",
      "  (2): BatchNorm2d(128, eps=1e-05, momentum=0.1, affine=True, track_running_stats=True)\n",
      "  (3): ReLU()\n",
      ")\n",
      "--------------------------------------------------------\n",
      "features_list ModuleList(\n",
      "  (0): Linear(in_features=128, out_features=256, bias=True)\n",
      "  (1): ReLU()\n",
      ")\n",
      "--------------------------------------------------------\n"
     ]
    }
   ],
   "source": [
    "for name, item in net.named_children():\n",
    "    print(name, item)\n",
    "    print('--------------------------------------------------------')"
   ],
   "metadata": {
    "collapsed": false,
    "ExecuteTime": {
     "end_time": "2024-05-04T11:43:40.388287704Z",
     "start_time": "2024-05-04T11:43:40.339398356Z"
    }
   },
   "id": "fd2a3e4504ca1ef3"
  },
  {
   "cell_type": "code",
   "execution_count": 71,
   "outputs": [
    {
     "ename": "AttributeError",
     "evalue": "'str' object has no attribute 'shape'",
     "output_type": "error",
     "traceback": [
      "\u001B[0;31m---------------------------------------------------------------------------\u001B[0m",
      "\u001B[0;31mAttributeError\u001B[0m                            Traceback (most recent call last)",
      "Cell \u001B[0;32mIn[71], line 2\u001B[0m\n\u001B[1;32m      1\u001B[0m \u001B[38;5;28;01mfor\u001B[39;00m data \u001B[38;5;129;01min\u001B[39;00m net\u001B[38;5;241m.\u001B[39mstate_dict():\n\u001B[0;32m----> 2\u001B[0m     \u001B[38;5;28mprint\u001B[39m(data\u001B[38;5;241m.\u001B[39mshape)\n",
      "\u001B[0;31mAttributeError\u001B[0m: 'str' object has no attribute 'shape'"
     ]
    }
   ],
   "source": [
    "# for data in net.state_dict():\n",
    "#     print(data)\n",
    "#     print()"
   ],
   "metadata": {
    "collapsed": false,
    "ExecuteTime": {
     "end_time": "2024-05-04T11:46:59.541280667Z",
     "start_time": "2024-05-04T11:46:59.517663057Z"
    }
   },
   "id": "20b7e93085509fa0"
  },
  {
   "cell_type": "code",
   "execution_count": null,
   "outputs": [],
   "source": [],
   "metadata": {
    "collapsed": false
   },
   "id": "35e4fc76350c99f6"
  }
 ],
 "metadata": {
  "kernelspec": {
   "display_name": "Python 3",
   "language": "python",
   "name": "python3"
  },
  "language_info": {
   "codemirror_mode": {
    "name": "ipython",
    "version": 2
   },
   "file_extension": ".py",
   "mimetype": "text/x-python",
   "name": "python",
   "nbconvert_exporter": "python",
   "pygments_lexer": "ipython2",
   "version": "2.7.6"
  }
 },
 "nbformat": 4,
 "nbformat_minor": 5
}
