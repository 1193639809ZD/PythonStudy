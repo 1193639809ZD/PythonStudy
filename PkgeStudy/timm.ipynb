{
 "cells": [
  {
   "cell_type": "code",
   "execution_count": 1,
   "id": "initial_id",
   "metadata": {
    "collapsed": true,
    "ExecuteTime": {
     "end_time": "2023-10-06T09:18:07.180459900Z",
     "start_time": "2023-10-06T09:18:04.393918800Z"
    }
   },
   "outputs": [],
   "source": [
    "import timm\n",
    "import torch"
   ]
  },
  {
   "cell_type": "code",
   "execution_count": 2,
   "outputs": [
    {
     "name": "stdout",
     "output_type": "stream",
     "text": [
      "如果不设置num_classes，表示使用的是原始的预训练模型的分类层\n"
     ]
    }
   ],
   "source": [
    "# 如果不设置num_classes，表示使用的是原始的预训练模型的分类层\n",
    "model = timm.create_model('resnet50', pretrained=False)\n",
    "print(model)"
   ],
   "metadata": {
    "collapsed": false,
    "ExecuteTime": {
     "end_time": "2023-10-06T09:19:01.983654400Z",
     "start_time": "2023-10-06T09:19:01.688053700Z"
    }
   },
   "id": "b3688f7c7db2bd62"
  },
  {
   "cell_type": "code",
   "execution_count": 4,
   "outputs": [
    {
     "name": "stdout",
     "output_type": "stream",
     "text": [
      "Classification layer shape: torch.Size([2, 1000])\n"
     ]
    }
   ],
   "source": [
    "image = torch.randn(2, 3, 224, 224)\n",
    "predict = model(image)\n",
    "print(f'Classification layer shape: {predict.shape}')"
   ],
   "metadata": {
    "collapsed": false,
    "ExecuteTime": {
     "end_time": "2023-10-06T09:22:55.473178500Z",
     "start_time": "2023-10-06T09:22:55.175039200Z"
    }
   },
   "id": "e5947d262bc1571b"
  },
  {
   "cell_type": "code",
   "execution_count": 5,
   "outputs": [
    {
     "name": "stdout",
     "output_type": "stream",
     "text": [
      "Feature shape: torch.Size([2, 2048, 7, 7])\n"
     ]
    }
   ],
   "source": [
    "# 输出flatten层或者global_pool层的前一层的数据（flatten层和global_pool层通常接分类层）\n",
    "predict = model.forward_features(torch.randn(2, 3, 224, 224))\n",
    "print(f'Feature shape: {predict.shape}\\n')"
   ],
   "metadata": {
    "collapsed": false,
    "ExecuteTime": {
     "end_time": "2023-10-06T09:23:33.263622700Z",
     "start_time": "2023-10-06T09:23:32.966973500Z"
    }
   },
   "id": "16c09c07111b5eee"
  },
  {
   "cell_type": "code",
   "execution_count": null,
   "outputs": [],
   "source": [],
   "metadata": {
    "collapsed": false
   },
   "id": "22df221a2187318"
  }
 ],
 "metadata": {
  "kernelspec": {
   "display_name": "Python 3",
   "language": "python",
   "name": "python3"
  },
  "language_info": {
   "codemirror_mode": {
    "name": "ipython",
    "version": 2
   },
   "file_extension": ".py",
   "mimetype": "text/x-python",
   "name": "python",
   "nbconvert_exporter": "python",
   "pygments_lexer": "ipython2",
   "version": "2.7.6"
  }
 },
 "nbformat": 4,
 "nbformat_minor": 5
}
