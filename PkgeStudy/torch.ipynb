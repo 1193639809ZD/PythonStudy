{
 "cells": [
  {
   "cell_type": "code",
   "execution_count": 1,
   "id": "initial_id",
   "metadata": {
    "collapsed": true,
    "ExecuteTime": {
     "end_time": "2023-10-06T08:57:50.833239800Z",
     "start_time": "2023-10-06T08:57:48.427984400Z"
    }
   },
   "outputs": [],
   "source": [
    "import torch"
   ]
  },
  {
   "cell_type": "code",
   "execution_count": 8,
   "outputs": [
    {
     "name": "stdout",
     "output_type": "stream",
     "text": [
      "torch_version: 2.0.1+cu117\n",
      "cuda_version: 11.7\n",
      "cuda is available\n",
      "device_count: 1\n",
      "device_name: NVIDIA GeForce GTX 1060\n"
     ]
    }
   ],
   "source": [
    "# 查看torch和cuda版本\n",
    "print(\"torch_version:\", torch.__version__)\n",
    "print(\"cuda_version:\", torch.version.cuda)\n",
    "# 查看gpu是否可用\n",
    "device = torch.device(\"cuda\" if torch.cuda.is_available() else \"cpu\")\n",
    "print(torch.device(\"cuda\" if torch.cuda.is_available() else \"cpu\"), \"is available\")\n",
    "# 查看gpu型号\n",
    "device_count = torch.cuda.device_count()\n",
    "print(f\"device_count: {device_count}\")\n",
    "for idx in range(device_count):\n",
    "    print(\"device_name:\", torch.cuda.get_device_name(idx))"
   ],
   "metadata": {
    "collapsed": false,
    "ExecuteTime": {
     "end_time": "2023-10-06T09:04:36.574217200Z",
     "start_time": "2023-10-06T09:04:36.565450800Z"
    }
   },
   "id": "f4002fc255e7086e"
  },
  {
   "cell_type": "code",
   "execution_count": 10,
   "outputs": [
    {
     "name": "stdout",
     "output_type": "stream",
     "text": [
      "tensor([[ 0.4860,  0.3916, -0.5438],\n",
      "        [ 0.6852, -0.8032,  0.4434],\n",
      "        [-1.1070, -1.4269, -0.5134]])\n"
     ]
    }
   ],
   "source": [
    "a = torch.randn(3, 3)\n",
    "print(a)"
   ],
   "metadata": {
    "collapsed": false,
    "ExecuteTime": {
     "start_time": "2023-10-06T02:44:57.813748700Z"
    }
   },
   "id": "5e6ded8da8bf8c4"
  },
  {
   "cell_type": "code",
   "execution_count": 11,
   "outputs": [
    {
     "name": "stdout",
     "output_type": "stream",
     "text": [
      "tensor([[ 0.6139, -0.6795, -0.2241, -0.7638],\n",
      "        [-1.6176, -1.0174, -2.0496,  0.8508],\n",
      "        [ 1.6167,  2.1764,  0.0690,  0.5214],\n",
      "        [ 0.8736, -0.7917,  0.6882, -0.4442]])\n"
     ]
    }
   ],
   "source": [
    "b = torch.randn(4, 4)\n",
    "print(b)"
   ],
   "metadata": {
    "collapsed": false,
    "ExecuteTime": {
     "start_time": "2023-10-06T02:44:58.541690300Z"
    }
   },
   "id": "ac4a3eda496faa39"
  },
  {
   "cell_type": "code",
   "execution_count": null,
   "outputs": [],
   "source": [],
   "metadata": {
    "collapsed": false
   },
   "id": "3e5aeb9b424d7c8d"
  }
 ],
 "metadata": {
  "kernelspec": {
   "display_name": "Python 3",
   "language": "python",
   "name": "python3"
  },
  "language_info": {
   "codemirror_mode": {
    "name": "ipython",
    "version": 2
   },
   "file_extension": ".py",
   "mimetype": "text/x-python",
   "name": "python",
   "nbconvert_exporter": "python",
   "pygments_lexer": "ipython2",
   "version": "2.7.6"
  }
 },
 "nbformat": 4,
 "nbformat_minor": 5
}
